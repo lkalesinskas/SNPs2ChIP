{
 "cells": [
  {
   "cell_type": "markdown",
   "metadata": {},
   "source": [
    "## JOIN sample_antibody_map with other metadata\n",
    "\n",
    "### Input:\n",
    "- sample_antibody_map_v2.txt\n",
    "- lympho_metadata.csv\n",
    "\n",
    "### Output:\n",
    "- sample_antibody_map_v2_with_metadata.tsv"
   ]
  },
  {
   "cell_type": "code",
   "execution_count": 1,
   "metadata": {},
   "outputs": [],
   "source": [
    "import pandas as pd"
   ]
  },
  {
   "cell_type": "code",
   "execution_count": 3,
   "metadata": {},
   "outputs": [],
   "source": [
    "sample_antibody_map_v2 = pd.read_csv(\n",
    "    'sample_antibody_map_v2.txt',\n",
    "    sep=' ', quotechar='\"',\n",
    ")"
   ]
  },
  {
   "cell_type": "code",
   "execution_count": 5,
   "metadata": {},
   "outputs": [
    {
     "data": {
      "text/plain": [
       "(652, 2)"
      ]
     },
     "execution_count": 5,
     "metadata": {},
     "output_type": "execute_result"
    }
   ],
   "source": [
    "sample_antibody_map_v2.shape"
   ]
  },
  {
   "cell_type": "code",
   "execution_count": 6,
   "metadata": {},
   "outputs": [],
   "source": [
    "lympho_metadata = pd.read_csv(\n",
    "    'lympho_metadata.csv',\n",
    ")"
   ]
  },
  {
   "cell_type": "code",
   "execution_count": 8,
   "metadata": {},
   "outputs": [
    {
     "data": {
      "text/plain": [
       "(688, 23)"
      ]
     },
     "execution_count": 8,
     "metadata": {},
     "output_type": "execute_result"
    }
   ],
   "source": [
    "lympho_metadata.shape"
   ]
  },
  {
   "cell_type": "code",
   "execution_count": 21,
   "metadata": {},
   "outputs": [],
   "source": [
    "sample_antibody_map_v2_with_metadata_temp = sample_antibody_map_v2.merge(\n",
    "    lympho_metadata,\n",
    "    how='left',\n",
    "    left_on='sample_number',\n",
    "    right_on=lympho_metadata.columns[0]\n",
    ")\n",
    "sample_antibody_map_v2_with_metadata = sample_antibody_map_v2_with_metadata_temp[\n",
    "    [x for x in sample_antibody_map_v2_with_metadata_temp.columns if x != lympho_metadata.columns[0]]\n",
    "]"
   ]
  },
  {
   "cell_type": "code",
   "execution_count": 22,
   "metadata": {},
   "outputs": [
    {
     "data": {
      "text/plain": [
       "(652, 24)"
      ]
     },
     "execution_count": 22,
     "metadata": {},
     "output_type": "execute_result"
    }
   ],
   "source": [
    "sample_antibody_map_v2_with_metadata.shape"
   ]
  },
  {
   "cell_type": "code",
   "execution_count": 23,
   "metadata": {},
   "outputs": [
    {
     "data": {
      "text/html": [
       "<div>\n",
       "<style scoped>\n",
       "    .dataframe tbody tr th:only-of-type {\n",
       "        vertical-align: middle;\n",
       "    }\n",
       "\n",
       "    .dataframe tbody tr th {\n",
       "        vertical-align: top;\n",
       "    }\n",
       "\n",
       "    .dataframe thead th {\n",
       "        text-align: right;\n",
       "    }\n",
       "</style>\n",
       "<table border=\"1\" class=\"dataframe\">\n",
       "  <thead>\n",
       "    <tr style=\"text-align: right;\">\n",
       "      <th></th>\n",
       "      <th>sample_number</th>\n",
       "      <th>antibody</th>\n",
       "      <th>Genome assembly</th>\n",
       "      <th>Antigen class</th>\n",
       "      <th>Antigen</th>\n",
       "      <th>Cell type class</th>\n",
       "      <th>Cell type</th>\n",
       "      <th>Cell type description</th>\n",
       "      <th>Processing logs</th>\n",
       "      <th>Title</th>\n",
       "      <th>...</th>\n",
       "      <th>age</th>\n",
       "      <th>treatment</th>\n",
       "      <th>genotype</th>\n",
       "      <th>lab</th>\n",
       "      <th>age.1</th>\n",
       "      <th>health state</th>\n",
       "      <th>cell_type</th>\n",
       "      <th>tissue_type</th>\n",
       "      <th>provider</th>\n",
       "      <th>sex</th>\n",
       "    </tr>\n",
       "  </thead>\n",
       "  <tbody>\n",
       "    <tr>\n",
       "      <th>0</th>\n",
       "      <td>ERX329611</td>\n",
       "      <td>NaN</td>\n",
       "      <td>hg19</td>\n",
       "      <td>Unclassified</td>\n",
       "      <td>Unclassified</td>\n",
       "      <td>Blood</td>\n",
       "      <td>Lymphoblastoid cell line</td>\n",
       "      <td>Tissue=blood|Lineage=mesoderm|Description=pare...</td>\n",
       "      <td>40855708,80.1,40.4,29496</td>\n",
       "      <td>Illumina Genome Analyzer IIx sequencing; Coord...</td>\n",
       "      <td>...</td>\n",
       "      <td>NaN</td>\n",
       "      <td>NaN</td>\n",
       "      <td>NaN</td>\n",
       "      <td>NaN</td>\n",
       "      <td>NaN</td>\n",
       "      <td>NaN</td>\n",
       "      <td>NA12892</td>\n",
       "      <td>NaN</td>\n",
       "      <td>NaN</td>\n",
       "      <td>female</td>\n",
       "    </tr>\n",
       "    <tr>\n",
       "      <th>1</th>\n",
       "      <td>ERX329612</td>\n",
       "      <td>NaN</td>\n",
       "      <td>hg19</td>\n",
       "      <td>Unclassified</td>\n",
       "      <td>Unclassified</td>\n",
       "      <td>Blood</td>\n",
       "      <td>Lymphoblastoid cell line</td>\n",
       "      <td>Tissue=blood|Lineage=mesoderm|Description=pare...</td>\n",
       "      <td>43053435,90.9,55.2,44937</td>\n",
       "      <td>Illumina HiSeq 2000 sequencing; Coordinated ef...</td>\n",
       "      <td>...</td>\n",
       "      <td>NaN</td>\n",
       "      <td>NaN</td>\n",
       "      <td>NaN</td>\n",
       "      <td>NaN</td>\n",
       "      <td>NaN</td>\n",
       "      <td>NaN</td>\n",
       "      <td>NA12892</td>\n",
       "      <td>NaN</td>\n",
       "      <td>NaN</td>\n",
       "      <td>female</td>\n",
       "    </tr>\n",
       "    <tr>\n",
       "      <th>2</th>\n",
       "      <td>ERX329613</td>\n",
       "      <td>NaN</td>\n",
       "      <td>hg19</td>\n",
       "      <td>Unclassified</td>\n",
       "      <td>Unclassified</td>\n",
       "      <td>Blood</td>\n",
       "      <td>Lymphoblastoid cell line</td>\n",
       "      <td>Tissue=blood|Lineage=mesoderm|Description=pare...</td>\n",
       "      <td>61877423,80.5,85.3,155</td>\n",
       "      <td>Illumina HiSeq 2000 sequencing; Coordinated ef...</td>\n",
       "      <td>...</td>\n",
       "      <td>NaN</td>\n",
       "      <td>NaN</td>\n",
       "      <td>NaN</td>\n",
       "      <td>NaN</td>\n",
       "      <td>NaN</td>\n",
       "      <td>NaN</td>\n",
       "      <td>NA12813</td>\n",
       "      <td>NaN</td>\n",
       "      <td>NaN</td>\n",
       "      <td>female</td>\n",
       "    </tr>\n",
       "    <tr>\n",
       "      <th>3</th>\n",
       "      <td>ERX329614</td>\n",
       "      <td>NaN</td>\n",
       "      <td>hg19</td>\n",
       "      <td>Unclassified</td>\n",
       "      <td>Unclassified</td>\n",
       "      <td>Blood</td>\n",
       "      <td>Lymphoblastoid cell line</td>\n",
       "      <td>Tissue=blood|Lineage=mesoderm|Description=pare...</td>\n",
       "      <td>40548507,80.3,37.2,27249</td>\n",
       "      <td>Illumina Genome Analyzer IIx sequencing; Coord...</td>\n",
       "      <td>...</td>\n",
       "      <td>NaN</td>\n",
       "      <td>NaN</td>\n",
       "      <td>NaN</td>\n",
       "      <td>NaN</td>\n",
       "      <td>NaN</td>\n",
       "      <td>NaN</td>\n",
       "      <td>NA19240</td>\n",
       "      <td>NaN</td>\n",
       "      <td>NaN</td>\n",
       "      <td>female</td>\n",
       "    </tr>\n",
       "    <tr>\n",
       "      <th>4</th>\n",
       "      <td>ERX329615</td>\n",
       "      <td>NaN</td>\n",
       "      <td>hg19</td>\n",
       "      <td>Unclassified</td>\n",
       "      <td>Unclassified</td>\n",
       "      <td>Blood</td>\n",
       "      <td>Lymphoblastoid cell line</td>\n",
       "      <td>Tissue=blood|Lineage=mesoderm|Description=pare...</td>\n",
       "      <td>42334884,82.0,47.9,26632</td>\n",
       "      <td>Illumina Genome Analyzer IIx sequencing; Coord...</td>\n",
       "      <td>...</td>\n",
       "      <td>NaN</td>\n",
       "      <td>NaN</td>\n",
       "      <td>NaN</td>\n",
       "      <td>NaN</td>\n",
       "      <td>NaN</td>\n",
       "      <td>NaN</td>\n",
       "      <td>NA19239</td>\n",
       "      <td>NaN</td>\n",
       "      <td>NaN</td>\n",
       "      <td>male</td>\n",
       "    </tr>\n",
       "  </tbody>\n",
       "</table>\n",
       "<p>5 rows × 24 columns</p>\n",
       "</div>"
      ],
      "text/plain": [
       "  sample_number antibody Genome assembly Antigen class       Antigen  \\\n",
       "0     ERX329611      NaN            hg19  Unclassified  Unclassified   \n",
       "1     ERX329612      NaN            hg19  Unclassified  Unclassified   \n",
       "2     ERX329613      NaN            hg19  Unclassified  Unclassified   \n",
       "3     ERX329614      NaN            hg19  Unclassified  Unclassified   \n",
       "4     ERX329615      NaN            hg19  Unclassified  Unclassified   \n",
       "\n",
       "  Cell type class                 Cell type  \\\n",
       "0           Blood  Lymphoblastoid cell line   \n",
       "1           Blood  Lymphoblastoid cell line   \n",
       "2           Blood  Lymphoblastoid cell line   \n",
       "3           Blood  Lymphoblastoid cell line   \n",
       "4           Blood  Lymphoblastoid cell line   \n",
       "\n",
       "                               Cell type description  \\\n",
       "0  Tissue=blood|Lineage=mesoderm|Description=pare...   \n",
       "1  Tissue=blood|Lineage=mesoderm|Description=pare...   \n",
       "2  Tissue=blood|Lineage=mesoderm|Description=pare...   \n",
       "3  Tissue=blood|Lineage=mesoderm|Description=pare...   \n",
       "4  Tissue=blood|Lineage=mesoderm|Description=pare...   \n",
       "\n",
       "            Processing logs  \\\n",
       "0  40855708,80.1,40.4,29496   \n",
       "1  43053435,90.9,55.2,44937   \n",
       "2    61877423,80.5,85.3,155   \n",
       "3  40548507,80.3,37.2,27249   \n",
       "4  42334884,82.0,47.9,26632   \n",
       "\n",
       "                                               Title   ...   age  treatment  \\\n",
       "0  Illumina Genome Analyzer IIx sequencing; Coord...   ...   NaN        NaN   \n",
       "1  Illumina HiSeq 2000 sequencing; Coordinated ef...   ...   NaN        NaN   \n",
       "2  Illumina HiSeq 2000 sequencing; Coordinated ef...   ...   NaN        NaN   \n",
       "3  Illumina Genome Analyzer IIx sequencing; Coord...   ...   NaN        NaN   \n",
       "4  Illumina Genome Analyzer IIx sequencing; Coord...   ...   NaN        NaN   \n",
       "\n",
       "  genotype lab  age.1 health state  cell_type  tissue_type  provider     sex  \n",
       "0      NaN NaN    NaN          NaN    NA12892          NaN       NaN  female  \n",
       "1      NaN NaN    NaN          NaN    NA12892          NaN       NaN  female  \n",
       "2      NaN NaN    NaN          NaN    NA12813          NaN       NaN  female  \n",
       "3      NaN NaN    NaN          NaN    NA19240          NaN       NaN  female  \n",
       "4      NaN NaN    NaN          NaN    NA19239          NaN       NaN    male  \n",
       "\n",
       "[5 rows x 24 columns]"
      ]
     },
     "execution_count": 23,
     "metadata": {},
     "output_type": "execute_result"
    }
   ],
   "source": [
    "sample_antibody_map_v2_with_metadata.head()"
   ]
  },
  {
   "cell_type": "code",
   "execution_count": 24,
   "metadata": {},
   "outputs": [],
   "source": [
    "sample_antibody_map_v2_with_metadata.to_csv(\n",
    "    'sample_antibody_map_v2_with_metadata.tsv',\n",
    "    sep='\\t', index=False, header=True\n",
    ")"
   ]
  },
  {
   "cell_type": "code",
   "execution_count": null,
   "metadata": {},
   "outputs": [],
   "source": []
  }
 ],
 "metadata": {
  "kernelspec": {
   "display_name": "Python 3",
   "language": "python",
   "name": "python3"
  },
  "language_info": {
   "codemirror_mode": {
    "name": "ipython",
    "version": 3
   },
   "file_extension": ".py",
   "mimetype": "text/x-python",
   "name": "python",
   "nbconvert_exporter": "python",
   "pygments_lexer": "ipython3",
   "version": "3.6.4"
  }
 },
 "nbformat": 4,
 "nbformat_minor": 2
}
