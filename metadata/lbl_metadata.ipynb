{
 "cells": [
  {
   "cell_type": "code",
   "execution_count": 1,
   "metadata": {
    "collapsed": true
   },
   "outputs": [],
   "source": [
    "import os,sys\n",
    "import pandas as pd \n",
    "import matplotlib.pyplot as plt\n",
    "import numpy as np\n",
    "from meta_utils import *\n",
    "from analysis_utils import *"
   ]
  },
  {
   "cell_type": "code",
   "execution_count": 19,
   "metadata": {
    "collapsed": true
   },
   "outputs": [],
   "source": [
    "exp_df = pd.read_csv('chip_atlas_experiment_list.csv')\n",
    "exp_meta_df = pd.read_pickle('exp_metadata_df.pkl')\n",
    "celltype_df = pd.read_csv('chip_atlas_celltype_list.csv')"
   ]
  },
  {
   "cell_type": "code",
   "execution_count": 34,
   "metadata": {
    "collapsed": false
   },
   "outputs": [],
   "source": [
    "fin = pd.merge(exp_df.set_index('Experimental ID'), exp_meta_df ,left_index=True, right_index=True, how='outer')\n",
    "\n",
    "lympho_metadata = fin[fin['Cell type'] == 'Lymphoblastoid cell line']\n",
    "lympho_metadata.to_csv('lympho_metadata.csv')"
   ]
  },
  {
   "cell_type": "code",
   "execution_count": 33,
   "metadata": {
    "collapsed": false
   },
   "outputs": [
    {
     "data": {
      "text/html": [
       "<div>\n",
       "<table border=\"1\" class=\"dataframe\">\n",
       "  <thead>\n",
       "    <tr style=\"text-align: right;\">\n",
       "      <th></th>\n",
       "      <th>Genome assembly</th>\n",
       "      <th>Antigen class</th>\n",
       "      <th>Antigen</th>\n",
       "      <th>Cell type class</th>\n",
       "      <th>Cell type</th>\n",
       "      <th>Cell type description</th>\n",
       "      <th>Processing logs</th>\n",
       "      <th>Title</th>\n",
       "      <th>Meta data</th>\n",
       "      <th>BATCH</th>\n",
       "      <th>...</th>\n",
       "      <th>age</th>\n",
       "      <th>treatment</th>\n",
       "      <th>genotype</th>\n",
       "      <th>lab</th>\n",
       "      <th>age</th>\n",
       "      <th>health state</th>\n",
       "      <th>cell_type</th>\n",
       "      <th>tissue_type</th>\n",
       "      <th>provider</th>\n",
       "      <th>sex</th>\n",
       "    </tr>\n",
       "  </thead>\n",
       "  <tbody>\n",
       "    <tr>\n",
       "      <th>ERX329611</th>\n",
       "      <td>hg19</td>\n",
       "      <td>Unclassified</td>\n",
       "      <td>Unclassified</td>\n",
       "      <td>Blood</td>\n",
       "      <td>Lymphoblastoid cell line</td>\n",
       "      <td>Tissue=blood|Lineage=mesoderm|Description=pare...</td>\n",
       "      <td>40855708,80.1,40.4,29496</td>\n",
       "      <td>Illumina Genome Analyzer IIx sequencing; Coord...</td>\n",
       "      <td>1000 Genomes dataset=Pilot2 || Sample Name=sou...</td>\n",
       "      <td>NaN</td>\n",
       "      <td>...</td>\n",
       "      <td>NaN</td>\n",
       "      <td>NaN</td>\n",
       "      <td>NaN</td>\n",
       "      <td>NaN</td>\n",
       "      <td>NaN</td>\n",
       "      <td>NaN</td>\n",
       "      <td>NA12892</td>\n",
       "      <td>NaN</td>\n",
       "      <td>NaN</td>\n",
       "      <td>female</td>\n",
       "    </tr>\n",
       "    <tr>\n",
       "      <th>ERX329612</th>\n",
       "      <td>hg19</td>\n",
       "      <td>Unclassified</td>\n",
       "      <td>Unclassified</td>\n",
       "      <td>Blood</td>\n",
       "      <td>Lymphoblastoid cell line</td>\n",
       "      <td>Tissue=blood|Lineage=mesoderm|Description=pare...</td>\n",
       "      <td>43053435,90.9,55.2,44937</td>\n",
       "      <td>Illumina HiSeq 2000 sequencing; Coordinated ef...</td>\n",
       "      <td>1000 Genomes dataset=Pilot2 || Sample Name=sou...</td>\n",
       "      <td>NaN</td>\n",
       "      <td>...</td>\n",
       "      <td>NaN</td>\n",
       "      <td>NaN</td>\n",
       "      <td>NaN</td>\n",
       "      <td>NaN</td>\n",
       "      <td>NaN</td>\n",
       "      <td>NaN</td>\n",
       "      <td>NA12892</td>\n",
       "      <td>NaN</td>\n",
       "      <td>NaN</td>\n",
       "      <td>female</td>\n",
       "    </tr>\n",
       "    <tr>\n",
       "      <th>ERX329613</th>\n",
       "      <td>hg19</td>\n",
       "      <td>Unclassified</td>\n",
       "      <td>Unclassified</td>\n",
       "      <td>Blood</td>\n",
       "      <td>Lymphoblastoid cell line</td>\n",
       "      <td>Tissue=blood|Lineage=mesoderm|Description=pare...</td>\n",
       "      <td>61877423,80.5,85.3,155</td>\n",
       "      <td>Illumina HiSeq 2000 sequencing; Coordinated ef...</td>\n",
       "      <td>1000 Genomes dataset=Pilot1 || Sample Name=sou...</td>\n",
       "      <td>NaN</td>\n",
       "      <td>...</td>\n",
       "      <td>NaN</td>\n",
       "      <td>NaN</td>\n",
       "      <td>NaN</td>\n",
       "      <td>NaN</td>\n",
       "      <td>NaN</td>\n",
       "      <td>NaN</td>\n",
       "      <td>NA12813</td>\n",
       "      <td>NaN</td>\n",
       "      <td>NaN</td>\n",
       "      <td>female</td>\n",
       "    </tr>\n",
       "    <tr>\n",
       "      <th>ERX329614</th>\n",
       "      <td>hg19</td>\n",
       "      <td>Unclassified</td>\n",
       "      <td>Unclassified</td>\n",
       "      <td>Blood</td>\n",
       "      <td>Lymphoblastoid cell line</td>\n",
       "      <td>Tissue=blood|Lineage=mesoderm|Description=pare...</td>\n",
       "      <td>40548507,80.3,37.2,27249</td>\n",
       "      <td>Illumina Genome Analyzer IIx sequencing; Coord...</td>\n",
       "      <td>1000 Genomes dataset=Pilot2 || Sample Name=sou...</td>\n",
       "      <td>NaN</td>\n",
       "      <td>...</td>\n",
       "      <td>NaN</td>\n",
       "      <td>NaN</td>\n",
       "      <td>NaN</td>\n",
       "      <td>NaN</td>\n",
       "      <td>NaN</td>\n",
       "      <td>NaN</td>\n",
       "      <td>NA19240</td>\n",
       "      <td>NaN</td>\n",
       "      <td>NaN</td>\n",
       "      <td>female</td>\n",
       "    </tr>\n",
       "    <tr>\n",
       "      <th>ERX329615</th>\n",
       "      <td>hg19</td>\n",
       "      <td>Unclassified</td>\n",
       "      <td>Unclassified</td>\n",
       "      <td>Blood</td>\n",
       "      <td>Lymphoblastoid cell line</td>\n",
       "      <td>Tissue=blood|Lineage=mesoderm|Description=pare...</td>\n",
       "      <td>42334884,82.0,47.9,26632</td>\n",
       "      <td>Illumina Genome Analyzer IIx sequencing; Coord...</td>\n",
       "      <td>1000 Genomes dataset=Pilot2 || Sample Name=sou...</td>\n",
       "      <td>NaN</td>\n",
       "      <td>...</td>\n",
       "      <td>NaN</td>\n",
       "      <td>NaN</td>\n",
       "      <td>NaN</td>\n",
       "      <td>NaN</td>\n",
       "      <td>NaN</td>\n",
       "      <td>NaN</td>\n",
       "      <td>NA19239</td>\n",
       "      <td>NaN</td>\n",
       "      <td>NaN</td>\n",
       "      <td>male</td>\n",
       "    </tr>\n",
       "  </tbody>\n",
       "</table>\n",
       "<p>5 rows × 22 columns</p>\n",
       "</div>"
      ],
      "text/plain": [
       "          Genome assembly Antigen class       Antigen Cell type class  \\\n",
       "ERX329611            hg19  Unclassified  Unclassified           Blood   \n",
       "ERX329612            hg19  Unclassified  Unclassified           Blood   \n",
       "ERX329613            hg19  Unclassified  Unclassified           Blood   \n",
       "ERX329614            hg19  Unclassified  Unclassified           Blood   \n",
       "ERX329615            hg19  Unclassified  Unclassified           Blood   \n",
       "\n",
       "                          Cell type  \\\n",
       "ERX329611  Lymphoblastoid cell line   \n",
       "ERX329612  Lymphoblastoid cell line   \n",
       "ERX329613  Lymphoblastoid cell line   \n",
       "ERX329614  Lymphoblastoid cell line   \n",
       "ERX329615  Lymphoblastoid cell line   \n",
       "\n",
       "                                       Cell type description  \\\n",
       "ERX329611  Tissue=blood|Lineage=mesoderm|Description=pare...   \n",
       "ERX329612  Tissue=blood|Lineage=mesoderm|Description=pare...   \n",
       "ERX329613  Tissue=blood|Lineage=mesoderm|Description=pare...   \n",
       "ERX329614  Tissue=blood|Lineage=mesoderm|Description=pare...   \n",
       "ERX329615  Tissue=blood|Lineage=mesoderm|Description=pare...   \n",
       "\n",
       "                    Processing logs  \\\n",
       "ERX329611  40855708,80.1,40.4,29496   \n",
       "ERX329612  43053435,90.9,55.2,44937   \n",
       "ERX329613    61877423,80.5,85.3,155   \n",
       "ERX329614  40548507,80.3,37.2,27249   \n",
       "ERX329615  42334884,82.0,47.9,26632   \n",
       "\n",
       "                                                       Title  \\\n",
       "ERX329611  Illumina Genome Analyzer IIx sequencing; Coord...   \n",
       "ERX329612  Illumina HiSeq 2000 sequencing; Coordinated ef...   \n",
       "ERX329613  Illumina HiSeq 2000 sequencing; Coordinated ef...   \n",
       "ERX329614  Illumina Genome Analyzer IIx sequencing; Coord...   \n",
       "ERX329615  Illumina Genome Analyzer IIx sequencing; Coord...   \n",
       "\n",
       "                                                   Meta data BATCH   ...    \\\n",
       "ERX329611  1000 Genomes dataset=Pilot2 || Sample Name=sou...   NaN   ...     \n",
       "ERX329612  1000 Genomes dataset=Pilot2 || Sample Name=sou...   NaN   ...     \n",
       "ERX329613  1000 Genomes dataset=Pilot1 || Sample Name=sou...   NaN   ...     \n",
       "ERX329614  1000 Genomes dataset=Pilot2 || Sample Name=sou...   NaN   ...     \n",
       "ERX329615  1000 Genomes dataset=Pilot2 || Sample Name=sou...   NaN   ...     \n",
       "\n",
       "           age treatment genotype  lab  age health state cell_type  \\\n",
       "ERX329611  NaN       NaN      NaN  NaN  NaN          NaN   NA12892   \n",
       "ERX329612  NaN       NaN      NaN  NaN  NaN          NaN   NA12892   \n",
       "ERX329613  NaN       NaN      NaN  NaN  NaN          NaN   NA12813   \n",
       "ERX329614  NaN       NaN      NaN  NaN  NaN          NaN   NA19240   \n",
       "ERX329615  NaN       NaN      NaN  NaN  NaN          NaN   NA19239   \n",
       "\n",
       "          tissue_type provider     sex  \n",
       "ERX329611         NaN      NaN  female  \n",
       "ERX329612         NaN      NaN  female  \n",
       "ERX329613         NaN      NaN  female  \n",
       "ERX329614         NaN      NaN  female  \n",
       "ERX329615         NaN      NaN    male  \n",
       "\n",
       "[5 rows x 22 columns]"
      ]
     },
     "execution_count": 33,
     "metadata": {},
     "output_type": "execute_result"
    }
   ],
   "source": [
    "lympho_metadata.head()"
   ]
  },
  {
   "cell_type": "code",
   "execution_count": 5,
   "metadata": {
    "collapsed": false
   },
   "outputs": [
    {
     "data": {
      "text/plain": [
       "(65499, 14)"
      ]
     },
     "execution_count": 5,
     "metadata": {},
     "output_type": "execute_result"
    }
   ],
   "source": [
    "exp_meta_df.shape"
   ]
  },
  {
   "cell_type": "code",
   "execution_count": 7,
   "metadata": {
    "collapsed": false
   },
   "outputs": [
    {
     "data": {
      "text/plain": [
       "['Genome assembly',\n",
       " 'Cell type class',\n",
       " 'Cell type',\n",
       " 'Number of experiments',\n",
       " 'Experimental IDs included']"
      ]
     },
     "execution_count": 7,
     "metadata": {},
     "output_type": "execute_result"
    }
   ],
   "source": [
    "list(celltype_df)"
   ]
  },
  {
   "cell_type": "code",
   "execution_count": null,
   "metadata": {
    "collapsed": true
   },
   "outputs": [],
   "source": []
  }
 ],
 "metadata": {
  "kernelspec": {
   "display_name": "Python 3",
   "language": "python",
   "name": "python3"
  },
  "language_info": {
   "codemirror_mode": {
    "name": "ipython",
    "version": 3
   },
   "file_extension": ".py",
   "mimetype": "text/x-python",
   "name": "python",
   "nbconvert_exporter": "python",
   "pygments_lexer": "ipython3",
   "version": "3.6.5"
  }
 },
 "nbformat": 4,
 "nbformat_minor": 2
}
