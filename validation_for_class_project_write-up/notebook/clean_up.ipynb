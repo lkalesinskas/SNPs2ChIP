{
 "cells": [
  {
   "cell_type": "code",
   "execution_count": 1,
   "metadata": {},
   "outputs": [],
   "source": [
    "import numpy as np\n",
    "import pandas as pd\n"
   ]
  },
  {
   "cell_type": "code",
   "execution_count": 6,
   "metadata": {},
   "outputs": [],
   "source": [
    "import os"
   ]
  },
  {
   "cell_type": "code",
   "execution_count": 82,
   "metadata": {},
   "outputs": [],
   "source": [
    "class Decomposed_matrices:\n",
    "    '''\n",
    "    Read three matrices stored in csv.gz files and compute\n",
    "    square cosine score and contribution score.\n",
    "    \n",
    "    Here are some explanation (see more details for the paper).\n",
    "    \n",
    "    Let's write our decomposition as X = UDV' \n",
    "    where X is input feature matrix, \n",
    "    D is diagonal singular value matrix, \n",
    "    U is left singular vector matrix (on assay space), \n",
    "    V is right singular vector matrix (on genomic bin space), \n",
    "    and `'` denotes the transposition of the matrix.\n",
    "    \n",
    "    Genomic bin squared cosine score is defined as L2-normalized \n",
    "    version of the matrix product (VD) so that any given slice \n",
    "    for a given genomic bin has Euclidian norm of 1. \n",
    "    \n",
    "    The interpretation of the score is it represents the relative \n",
    "    importance of the component given a genomic bin.    \n",
    "    '''\n",
    "    def read_decomposed_matrix_file(self, filename, compression=None):\n",
    "        '''\n",
    "        This function reads the csv.gz file\n",
    "        '''\n",
    "        if((compression is None) and (len(filename) > 3) and (filename[-3:] == '.gz')):\n",
    "            compression='gzip'\n",
    "        df = pd.read_csv(\n",
    "            os.path.join(data_dir, filename),\n",
    "            compression=compression\n",
    "        )\n",
    "        mat = df.iloc[:, 1:].as_matrix()\n",
    "        idx = df.iloc[:, 0].as_matrix()\n",
    "        return mat, idx    \n",
    "\n",
    "    def __init__(self, d_file, u_file, v_file):\n",
    "        '''\n",
    "        Given the file names of the three csv.gz filess, \n",
    "        load them on memory and compute the scores.\n",
    "        '''\n",
    "        # read three matrices D, U, V\n",
    "        d_mat_temp, d_idx = self.read_decomposed_matrix_file(d_file)\n",
    "        d_vec = d_mat_temp[:, 0]\n",
    "        u_mat, u_idx = self.read_decomposed_matrix_file(u_file)\n",
    "        v_mat, v_idx = self.read_decomposed_matrix_file(v_file)\n",
    "        \n",
    "        # Compute matrix produces, UD and VD\n",
    "        u_dot_d = np.dot(u_mat, np.diag(d_vec))\n",
    "        v_dot_d = np.dot(v_mat, np.diag(d_vec))\n",
    "        \n",
    "        # Compute the following four normalized matrices.\n",
    "        # - v_dot_d_find_pcs: genomic bin --> which PCs? \n",
    "        #    genomic bin squared contribution score.\n",
    "        # - u_dot_d_fine_pcs: assay       --> which PCs? \n",
    "        #    assay squared contribution score.\n",
    "        # - v_dot_d_find_loci: PC --> which genomic bins? \n",
    "        #    genomic bin contribution score.\n",
    "        # - u_dot_d_find_assays: PC --> which assays? \n",
    "        #    assay contribution score        \n",
    "        self.v_dot_d_find_pcs    = (v_dot_d ** 2 ) / (np.sum(v_dot_d ** 2, axis = 1)[:,np.newaxis])\n",
    "        self.u_dot_d_find_pcs    = (u_dot_d ** 2 ) / (np.sum(u_dot_d ** 2, axis = 1)[:,np.newaxis])\n",
    "        self.v_dot_d_find_loci   = (v_dot_d ** 2 ) / (np.sum(v_dot_d ** 2, axis = 0)[np.newaxis, :])\n",
    "        self.u_dot_d_find_assays = (u_dot_d ** 2 ) / (np.sum(u_dot_d ** 2, axis = 0)[np.newaxis, :])\n",
    "            \n",
    "    def __find_generic(self, find_matrix, query_idx, topk=5):\n",
    "        '''\n",
    "        Generic form of \"find_X_given_Y\" function.\n",
    "        '''\n",
    "        return_idxs = np.argsort(-find_matrix[query_idx, :])[:topk]\n",
    "        scores = find_matrix[query_idx, return_idxs]\n",
    "        return return_idxs, scores\n",
    "    \n",
    "    def find_pcs_given_locus(self, locus_idx, topk=5):\n",
    "        '''\n",
    "        Given a specified locus_idx, return the top k PCs (default 5) and\n",
    "        the corresponding their relative importance (genomic bin squared contribution score).\n",
    "        '''\n",
    "        return self.__find_generic(self.v_dot_d_find_pcs, locus_idx, topk)\n",
    "    \n",
    "    def find_pcs_given_assay(self, assay_idx, topk=5):\n",
    "        '''\n",
    "        Given a specified assay_idx, return the top k PCs (default 5) and\n",
    "        the corresponding their relative importance (assay squared contribution score).\n",
    "        '''\n",
    "        return self.__find_generic(self.u_dot_d_find_pcs, assay_idx, topk)\n",
    "\n",
    "    def find_loci_given_pc(self, pc_idx, topk=5):\n",
    "        '''\n",
    "        Given a specified PC index, return the top k genomic loci (default 5) and\n",
    "        the corresponding their relative importance (genomic bin contribution score).\n",
    "        '''\n",
    "        return self.__find_generic(np.transpose(self.v_dot_d_find_loci), pc_idx, topk)\n",
    "        \n",
    "    def find_assays_given_pc(self, pc_idx, topk=5):\n",
    "        '''\n",
    "        Given a specified PC index, return the top k assays (default 5) and\n",
    "        the corresponding their relative importance (assay contribution score).\n",
    "        '''\n",
    "        return self.__find_generic(np.transpose(self.u_dot_d_find_assays), pc_idx, topk)\n",
    "\n",
    "    # multipe SNPs/assays mode\n",
    "    def __find_given_list_generic(self, find_matrix, query_idxs, weights = None, topk=5):\n",
    "        '''\n",
    "        Generic form of \"find_pcs_given_X_list\" function.\n",
    "        '''\n",
    "        find_matrix_slice = find_matrix[query_idxs, :]\n",
    "        if(weights is None):\n",
    "            find_vec = np.sum(find_matrix_slice, axis = 0) / len(query_idxs)\n",
    "        else:\n",
    "            weights_vec = np.array(weights)[:, np.newaxis] / np.sum(weights)\n",
    "            find_vec = np.sum(weights_vec * find_matrix_slice, axis = 0)            \n",
    "        return_idxs = np.argsort(-find_vec)[:topk]\n",
    "        scores = find_vec[return_idxs]\n",
    "        return return_idxs, scores\n",
    "    \n",
    "    def find_pcs_given_loci_list(self, loci_idxs, weights = None, topk=5):\n",
    "        '''\n",
    "        Given indices of genomic loci as a list, return the top k PCs (default 5) and\n",
    "        the corresponding their relative importance.\n",
    "        One can also give weights for the list of loci.        \n",
    "        '''\n",
    "        return self.__find_given_list_generic(self.v_dot_d_find_pcs, loci_idxs, weights, topk)\n",
    "        \n",
    "    def find_pcs_given_assay_list(self, assay_idxs, weights = None, topk=5):\n",
    "        '''\n",
    "        Given indices of assays as a list, return the top k PCs (default 5) and\n",
    "        the corresponding their relative importance.\n",
    "        One can also give weights for the list of assays.\n",
    "        '''\n",
    "        return self.__find_given_list_generic(self.u_dot_d_find_pcs, assay_idxs, weights, topk)\n",
    "    "
   ]
  },
  {
   "cell_type": "code",
   "execution_count": 76,
   "metadata": {},
   "outputs": [],
   "source": [
    "data_dir = '/afs/cs.stanford.edu/u/ytanigaw/repos/lkalesinskas/bigtranscription/private_data'\n"
   ]
  },
  {
   "cell_type": "code",
   "execution_count": 83,
   "metadata": {},
   "outputs": [],
   "source": [
    "decomposed_mats = Decomposed_matrices(\n",
    "    os.path.join(data_dir, 'diagonalScore.csv.gz'),\n",
    "    os.path.join(data_dir, 'uScore.csv.gz'),\n",
    "    os.path.join(data_dir, 'vScore.csv.gz')\n",
    ")"
   ]
  },
  {
   "cell_type": "code",
   "execution_count": 87,
   "metadata": {},
   "outputs": [
    {
     "name": "stdout",
     "output_type": "stream",
     "text": [
      "40973 (array([ 0,  5,  2,  8, 39]), array([0.17388874, 0.14292424, 0.07116638, 0.05649573, 0.02586899]))\n",
      "114953 (array([16,  7, 14, 59, 38]), array([0.06951082, 0.06718931, 0.04944998, 0.04625181, 0.03272474]))\n",
      "275291 (array([5, 2, 8, 7, 3]), array([0.27117038, 0.09215098, 0.07264342, 0.06559204, 0.04081626]))\n",
      "216060 (array([ 5,  1, 73, 14,  2]), array([0.10332161, 0.04327748, 0.03535886, 0.02969716, 0.02020912]))\n"
     ]
    }
   ],
   "source": [
    "for locus in [40973, 114953, 275291, 216060]:\n",
    "    print(locus, decomposed_mats.find_pcs_given_locus(locus))"
   ]
  },
  {
   "cell_type": "markdown",
   "metadata": {},
   "source": [
    "#### query for multiple SNPS"
   ]
  },
  {
   "cell_type": "code",
   "execution_count": 106,
   "metadata": {},
   "outputs": [
    {
     "name": "stdout",
     "output_type": "stream",
     "text": [
      "Rank0: PC6 (weight 0.1321)\n",
      "Rank1: PC1 (weight 0.0596)\n",
      "Rank2: PC3 (weight 0.0466)\n",
      "Rank3: PC9 (weight 0.0371)\n",
      "Rank4: PC8 (weight 0.0362)\n"
     ]
    }
   ],
   "source": [
    "pc_0index, pc_weights = decomposed_mats.find_pcs_given_loci_list(\n",
    "    genomic_bins.find_loci_given_snps(\n",
    "        [2, 5, 13, 10],\n",
    "        [33701000, 1315000, 42952000, 6390000]\n",
    "    ), \n",
    "    weights=[1, 1, 1, 1]\n",
    ")\n",
    "\n",
    "for i, dat in enumerate(zip(pc_0index, pc_weights)):\n",
    "    print('Rank{}: PC{} (weight {:.4f})'.format(i, dat[0] + 1, dat[1]))"
   ]
  },
  {
   "cell_type": "markdown",
   "metadata": {},
   "source": [
    "#### query for single SNP"
   ]
  },
  {
   "cell_type": "code",
   "execution_count": 107,
   "metadata": {},
   "outputs": [
    {
     "name": "stdout",
     "output_type": "stream",
     "text": [
      "Rank0: PC1 (weight 0.1739)\n",
      "Rank1: PC6 (weight 0.1429)\n",
      "Rank2: PC3 (weight 0.0712)\n",
      "Rank3: PC9 (weight 0.0565)\n",
      "Rank4: PC40 (weight 0.0259)\n"
     ]
    }
   ],
   "source": [
    "pc_0index, pc_weights = decomposed_mats.find_pcs_given_locus(\n",
    "    genomic_bins.find_locus_given_snp(2, 33701000)\n",
    ")\n",
    "\n",
    "for i, dat in enumerate(zip(pc_0index, pc_weights)):\n",
    "    print('Rank{}: PC{} (weight {:.4f})'.format(i, dat[0] + 1, dat[1]))"
   ]
  },
  {
   "cell_type": "code",
   "execution_count": null,
   "metadata": {},
   "outputs": [],
   "source": []
  },
  {
   "cell_type": "code",
   "execution_count": null,
   "metadata": {},
   "outputs": [],
   "source": []
  },
  {
   "cell_type": "code",
   "execution_count": null,
   "metadata": {},
   "outputs": [],
   "source": []
  },
  {
   "cell_type": "code",
   "execution_count": 84,
   "metadata": {},
   "outputs": [
    {
     "data": {
      "text/plain": [
       "(array([5, 0, 2, 8, 7]),\n",
       " array([0.13214054, 0.05960559, 0.04656923, 0.03709355, 0.036163  ]))"
      ]
     },
     "execution_count": 84,
     "metadata": {},
     "output_type": "execute_result"
    }
   ],
   "source": [
    "decomposed_mats.find_pcs_given_loci_list(\n",
    "    [40973, 114953, 275291, 216060]\n",
    ")"
   ]
  },
  {
   "cell_type": "code",
   "execution_count": 88,
   "metadata": {},
   "outputs": [
    {
     "data": {
      "text/plain": [
       "(array([ 0,  5,  2,  8, 39]),\n",
       " array([0.17388874, 0.14292424, 0.07116638, 0.05649573, 0.02586899]))"
      ]
     },
     "execution_count": 88,
     "metadata": {},
     "output_type": "execute_result"
    }
   ],
   "source": [
    "decomposed_mats.find_pcs_given_loci_list(\n",
    "    [40973, 114953, 275291, 216060],\n",
    "    weights=[1, 0, 0, 0]\n",
    ")"
   ]
  },
  {
   "cell_type": "code",
   "execution_count": 89,
   "metadata": {},
   "outputs": [
    {
     "data": {
      "text/plain": [
       "(array([16,  7, 14, 59, 38]),\n",
       " array([0.06951082, 0.06718931, 0.04944998, 0.04625181, 0.03272474]))"
      ]
     },
     "execution_count": 89,
     "metadata": {},
     "output_type": "execute_result"
    }
   ],
   "source": [
    "decomposed_mats.find_pcs_given_loci_list(\n",
    "    [40973, 114953, 275291, 216060],\n",
    "    weights=[0, 1, 0, 0]\n",
    ")"
   ]
  },
  {
   "cell_type": "code",
   "execution_count": 90,
   "metadata": {},
   "outputs": [
    {
     "data": {
      "text/plain": [
       "(array([5, 2, 8, 7, 3]),\n",
       " array([0.27117038, 0.09215098, 0.07264342, 0.06559204, 0.04081626]))"
      ]
     },
     "execution_count": 90,
     "metadata": {},
     "output_type": "execute_result"
    }
   ],
   "source": [
    "decomposed_mats.find_pcs_given_loci_list(\n",
    "    [40973, 114953, 275291, 216060],\n",
    "    weights=[0, 0, 1, 0]\n",
    ")"
   ]
  },
  {
   "cell_type": "code",
   "execution_count": 91,
   "metadata": {},
   "outputs": [
    {
     "data": {
      "text/plain": [
       "(array([ 5,  1, 73, 14,  2]),\n",
       " array([0.10332161, 0.04327748, 0.03535886, 0.02969716, 0.02020912]))"
      ]
     },
     "execution_count": 91,
     "metadata": {},
     "output_type": "execute_result"
    }
   ],
   "source": [
    "decomposed_mats.find_pcs_given_loci_list(\n",
    "    [40973, 114953, 275291, 216060],\n",
    "    weights=[0, 0, 0, 1]\n",
    ")"
   ]
  },
  {
   "cell_type": "code",
   "execution_count": null,
   "metadata": {},
   "outputs": [],
   "source": []
  },
  {
   "cell_type": "code",
   "execution_count": null,
   "metadata": {},
   "outputs": [],
   "source": []
  },
  {
   "cell_type": "code",
   "execution_count": null,
   "metadata": {},
   "outputs": [],
   "source": []
  },
  {
   "cell_type": "code",
   "execution_count": 78,
   "metadata": {},
   "outputs": [
    {
     "data": {
      "text/plain": [
       "(array([ 7, 39,  5, 41,  1]),\n",
       " array([0.07565113, 0.06052896, 0.05604721, 0.04363581, 0.03172747]))"
      ]
     },
     "execution_count": 78,
     "metadata": {},
     "output_type": "execute_result"
    }
   ],
   "source": [
    "decomposed_mats.find_pcs_given_locus(328517)"
   ]
  },
  {
   "cell_type": "code",
   "execution_count": 79,
   "metadata": {},
   "outputs": [
    {
     "data": {
      "text/plain": [
       "(array([188, 441, 433, 434, 439]),\n",
       " array([0.09254222, 0.08990549, 0.08470579, 0.06732091, 0.04859752]))"
      ]
     },
     "execution_count": 79,
     "metadata": {},
     "output_type": "execute_result"
    }
   ],
   "source": [
    "decomposed_mats.find_assays_given_pc(7)"
   ]
  },
  {
   "cell_type": "code",
   "execution_count": 80,
   "metadata": {},
   "outputs": [
    {
     "data": {
      "text/plain": [
       "(array([249953, 224313, 330510, 273660, 294763]),\n",
       " array([6.58942556e-05, 6.22829820e-05, 6.12494759e-05, 6.06528861e-05,\n",
       "        5.92396118e-05]))"
      ]
     },
     "execution_count": 80,
     "metadata": {},
     "output_type": "execute_result"
    }
   ],
   "source": [
    "decomposed_mats.find_loci_given_pc(7)"
   ]
  },
  {
   "cell_type": "code",
   "execution_count": 25,
   "metadata": {},
   "outputs": [],
   "source": [
    "df=pd.DataFrame({'a': np.arange(10) * 2})"
   ]
  },
  {
   "cell_type": "code",
   "execution_count": 28,
   "metadata": {},
   "outputs": [
    {
     "data": {
      "text/plain": [
       "{0: 0, 2: 1, 4: 2, 6: 3, 8: 4, 10: 5, 12: 6, 14: 7, 16: 8, 18: 9}"
      ]
     },
     "execution_count": 28,
     "metadata": {},
     "output_type": "execute_result"
    }
   ],
   "source": [
    "dict(zip(df['a'], df.index))"
   ]
  },
  {
   "cell_type": "code",
   "execution_count": null,
   "metadata": {},
   "outputs": [],
   "source": []
  },
  {
   "cell_type": "code",
   "execution_count": 55,
   "metadata": {},
   "outputs": [],
   "source": [
    "class Genomic_bins:\n",
    "    def read_genomic_bin_bed_file(self, genomic_bin_bed_file):\n",
    "        '''\n",
    "        Read bed file that defines genomic bins\n",
    "        '''\n",
    "        genomic_bin_df=pd.read_csv(\n",
    "            genomic_bin_bed_file,\n",
    "            names=['chr', 'chromStart', 'chromEnd', 'name'],\n",
    "            sep='\\t'\n",
    "        )\n",
    "        return genomic_bin_df\n",
    "    \n",
    "    def __init__(self, genomic_bin_bed_file, bin_size = 1000):\n",
    "        '''\n",
    "        Read the definition of the genomic loci BED file and load to memory\n",
    "        '''\n",
    "        self.genomic_bin = self.read_genomic_bin_bed_file(genomic_bin_bed_file)\n",
    "        self.name_to_loci = dict(zip(self.genomic_bin['name'], self.genomic_bin.index))\n",
    "        self.bin_size = bin_size\n",
    "    \n",
    "    def find_locus_given_snp(self, chrom, position):\n",
    "        '''\n",
    "        Given a genomic coordinate a pair of (chrom, position),\n",
    "        return the index of the corresponding genomic locus.\n",
    "        '''\n",
    "        name='chr{}_{}'.format(chrom, int(position / self.bin_size))\n",
    "        return self.name_to_loci[name]\n",
    "\n",
    "    def find_loci_given_snps(self, chroms, positions):\n",
    "        '''\n",
    "        Given a list of genomic coordinates \n",
    "        (one need to pass as two lists of chromosome and positions),\n",
    "        return the list of genomic loci\n",
    "        '''\n",
    "        return [\n",
    "            self.find_locus_given_snp(x[0], x[1]) for x in\n",
    "            zip(chroms, positions)\n",
    "        ]"
   ]
  },
  {
   "cell_type": "code",
   "execution_count": 52,
   "metadata": {},
   "outputs": [],
   "source": [
    "genomic_bins = Genomic_bins(\n",
    "    os.path.join(data_dir, 'loci_def.bed')\n",
    ")"
   ]
  },
  {
   "cell_type": "code",
   "execution_count": 37,
   "metadata": {},
   "outputs": [
    {
     "data": {
      "text/plain": [
       "328517"
      ]
     },
     "execution_count": 37,
     "metadata": {},
     "output_type": "execute_result"
    }
   ],
   "source": [
    "genomic_bins.find_loci_given_snp(17, 38023745)"
   ]
  },
  {
   "cell_type": "code",
   "execution_count": 56,
   "metadata": {},
   "outputs": [
    {
     "data": {
      "text/plain": [
       "[40973, 114953, 275291, 216060]"
      ]
     },
     "execution_count": 56,
     "metadata": {},
     "output_type": "execute_result"
    }
   ],
   "source": [
    "genomic_bins.find_loci_given_snps(\n",
    "    [2, 5, 13, 10],\n",
    "    [33701000, 1315000, 42952000, 6390000]\n",
    ")"
   ]
  },
  {
   "cell_type": "code",
   "execution_count": 86,
   "metadata": {},
   "outputs": [
    {
     "data": {
      "text/plain": [
       "(40973,\n",
       " (array([ 0,  5,  2,  8, 39]),\n",
       "  array([0.17388874, 0.14292424, 0.07116638, 0.05649573, 0.02586899])))"
      ]
     },
     "execution_count": 86,
     "metadata": {},
     "output_type": "execute_result"
    }
   ],
   "source": [
    "locus = genomic_bins.find_locus_given_snp(2, 33701000)\n",
    "locus, decomposed_mats.find_pcs_given_locus(locus)"
   ]
  },
  {
   "cell_type": "code",
   "execution_count": 45,
   "metadata": {},
   "outputs": [
    {
     "data": {
      "text/plain": [
       "(114953,\n",
       " (array([16,  7, 14, 59, 38]),\n",
       "  array([0.06951082, 0.06718931, 0.04944998, 0.04625181, 0.03272474])))"
      ]
     },
     "execution_count": 45,
     "metadata": {},
     "output_type": "execute_result"
    }
   ],
   "source": [
    "locus = genomic_bins.find_loci_given_snp(5, 1315000)\n",
    "locus, decomposed_mats.find_pcs_given_locus(locus)"
   ]
  },
  {
   "cell_type": "code",
   "execution_count": 47,
   "metadata": {},
   "outputs": [
    {
     "data": {
      "text/plain": [
       "(275291,\n",
       " (array([5, 2, 8, 7, 3]),\n",
       "  array([0.27117038, 0.09215098, 0.07264342, 0.06559204, 0.04081626])))"
      ]
     },
     "execution_count": 47,
     "metadata": {},
     "output_type": "execute_result"
    }
   ],
   "source": [
    "locus = genomic_bins.find_loci_given_snp(13, 42952000)\n",
    "locus, decomposed_mats.find_pcs_given_locus(locus)"
   ]
  },
  {
   "cell_type": "code",
   "execution_count": 48,
   "metadata": {},
   "outputs": [
    {
     "data": {
      "text/plain": [
       "(216060,\n",
       " (array([ 5,  1, 73, 14,  2]),\n",
       "  array([0.10332161, 0.04327748, 0.03535886, 0.02969716, 0.02020912])))"
      ]
     },
     "execution_count": 48,
     "metadata": {},
     "output_type": "execute_result"
    }
   ],
   "source": [
    "locus = genomic_bins.find_loci_given_snp(10, 6390000)\n",
    "locus, decomposed_mats.find_pcs_given_locus(locus)"
   ]
  },
  {
   "cell_type": "code",
   "execution_count": null,
   "metadata": {},
   "outputs": [],
   "source": []
  }
 ],
 "metadata": {
  "kernelspec": {
   "display_name": "Python 3",
   "language": "python",
   "name": "python3"
  },
  "language_info": {
   "codemirror_mode": {
    "name": "ipython",
    "version": 3
   },
   "file_extension": ".py",
   "mimetype": "text/x-python",
   "name": "python",
   "nbconvert_exporter": "python",
   "pygments_lexer": "ipython3",
   "version": "3.6.4"
  }
 },
 "nbformat": 4,
 "nbformat_minor": 2
}
