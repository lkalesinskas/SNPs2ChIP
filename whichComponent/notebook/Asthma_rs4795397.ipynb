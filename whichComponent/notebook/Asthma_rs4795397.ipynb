{
 "cells": [
  {
   "cell_type": "markdown",
   "metadata": {},
   "source": [
    "\n",
    "## Asthma rs4795397 example -- Which component is important?\n",
    "\n",
    "- The specific context of this variant and disease is described in this google doc:\n",
    "  - https://docs.google.com/document/d/16GuSasXWX-5qwvKAX5-4VxtrbmsIu9UgrP311_viqQc/edit?usp=sharing\n",
    "- This notebook would show, \n",
    "  1. Given the SNP, identify which genomic bin contains the SNP\n",
    "  1. Use genomic bin squared cosine score to find the top 5 important component for the genomic bin\n",
    "  1. Investigate the top component for the genomic bins\n",
    "    - Use assay contribution scores to see what assays are important for the component\n",
    "    - Use genomic bin contribution scores to see what other gnomic bins are important for the component\n",
    "    - Explorer the results of enrichment analysis\n",
    "\n",
    "**To Be written**\n"
   ]
  },
  {
   "cell_type": "code",
   "execution_count": null,
   "metadata": {},
   "outputs": [],
   "source": []
  }
 ],
 "metadata": {
  "kernelspec": {
   "display_name": "Python 3",
   "language": "python",
   "name": "python3"
  },
  "language_info": {
   "codemirror_mode": {
    "name": "ipython",
    "version": 3
   },
   "file_extension": ".py",
   "mimetype": "text/x-python",
   "name": "python",
   "nbconvert_exporter": "python",
   "pygments_lexer": "ipython3",
   "version": "3.6.4"
  }
 },
 "nbformat": 4,
 "nbformat_minor": 2
}
