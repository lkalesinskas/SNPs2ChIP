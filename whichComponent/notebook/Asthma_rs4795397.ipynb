{
 "cells": [
  {
   "cell_type": "markdown",
   "metadata": {},
   "source": [
    "\n",
    "## Asthma rs4795397 example -- Which component is important?\n",
    "\n",
    "- The specific context of this variant and disease is described in this google doc:\n",
    "  - https://docs.google.com/document/d/16GuSasXWX-5qwvKAX5-4VxtrbmsIu9UgrP311_viqQc/edit?usp=sharing\n",
    "- This notebook would show, \n",
    "  1. Given the SNP, identify which genomic bin contains the SNP\n",
    "  1. Use genomic bin squared cosine score to find the top 3 important components for the genomic bin\n",
    "  1. Investigate the top component for the genomic bins\n",
    "    - Use assay contribution scores to see what assays are important for the component\n",
    "    - Use genomic bin contribution scores to see what other gnomic bins are important for the component\n",
    "    - Explorer the results of enrichment analysis\n"
   ]
  },
  {
   "cell_type": "code",
   "execution_count": 1,
   "metadata": {},
   "outputs": [],
   "source": [
    "% matplotlib inline\n",
    "\n",
    "import numpy as np\n",
    "import pandas as pd\n",
    "import matplotlib, collections, itertools, os, re, textwrap, logging, sys\n",
    "import matplotlib.pyplot as plt\n",
    "import matplotlib.gridspec as gridspec\n",
    "import matplotlib.patches as mpatches\n",
    "from functools import reduce\n",
    "\n",
    "from logging.config import dictConfig\n",
    "from logging import getLogger\n",
    "\n",
    "dictConfig(dict(\n",
    "    version = 1,\n",
    "    formatters = {'f': {'format': '%(asctime)s %(name)-12s %(levelname)-8s %(message)s'}},\n",
    "    handlers = {\n",
    "        'h': {'class': 'logging.StreamHandler','formatter': 'f',\n",
    "              'level': logging.DEBUG}},\n",
    "    root = {'handlers': ['h'], 'level': logging.DEBUG,},\n",
    "))\n",
    "\n",
    "matplotlib.rc('font',**{'size':16, 'family':'sans-serif','sans-serif':['HelveticaNeue', 'Helvetica']})\n",
    "\n",
    "logger = getLogger('notebook')\n"
   ]
  },
  {
   "cell_type": "code",
   "execution_count": 2,
   "metadata": {},
   "outputs": [],
   "source": [
    "repo_dir=os.path.realpath(\n",
    "    os.path.dirname(os.path.dirname(os.getcwd()))\n",
    ")\n"
   ]
  },
  {
   "cell_type": "code",
   "execution_count": 3,
   "metadata": {},
   "outputs": [],
   "source": [
    "data_dir=os.path.realpath(\n",
    "    os.path.join(os.path.dirname(os.getcwd()), 'private_data')\n",
    ")"
   ]
  },
  {
   "cell_type": "code",
   "execution_count": 56,
   "metadata": {},
   "outputs": [],
   "source": [
    "enrichment_data_dir=os.path.join(repo_dir, 'enrichment', 'private_data')\n"
   ]
  },
  {
   "cell_type": "code",
   "execution_count": 4,
   "metadata": {},
   "outputs": [],
   "source": [
    "sys.path.append(os.path.join(repo_dir, 'enrichement', 'src'))\n",
    "from great import read_great_res_wrapper\n"
   ]
  },
  {
   "cell_type": "markdown",
   "metadata": {},
   "source": [
    "### Step 1: SNP to genomic bin\n",
    "- `rs4795397` is on chr17:38023745 (hg19)\n",
    "  - https://www.ncbi.nlm.nih.gov/projects/SNP/snp_ref.cgi?rs=4795397\n",
    "- This means the corresponding bin is chr17_38023"
   ]
  },
  {
   "cell_type": "code",
   "execution_count": 34,
   "metadata": {},
   "outputs": [],
   "source": [
    "genomic_bin_df=pd.read_csv(\n",
    "    os.path.join(repo_dir, 'enrichment', 'private_data', 'loci_def.bed'),\n",
    "    names=['chr', 'chromStart', 'chromEnd', 'name'],\n",
    "    sep='\\t'\n",
    ")"
   ]
  },
  {
   "cell_type": "code",
   "execution_count": 36,
   "metadata": {},
   "outputs": [
    {
     "data": {
      "text/html": [
       "<div>\n",
       "<style scoped>\n",
       "    .dataframe tbody tr th:only-of-type {\n",
       "        vertical-align: middle;\n",
       "    }\n",
       "\n",
       "    .dataframe tbody tr th {\n",
       "        vertical-align: top;\n",
       "    }\n",
       "\n",
       "    .dataframe thead th {\n",
       "        text-align: right;\n",
       "    }\n",
       "</style>\n",
       "<table border=\"1\" class=\"dataframe\">\n",
       "  <thead>\n",
       "    <tr style=\"text-align: right;\">\n",
       "      <th></th>\n",
       "      <th>chr</th>\n",
       "      <th>chromStart</th>\n",
       "      <th>chromEnd</th>\n",
       "      <th>name</th>\n",
       "    </tr>\n",
       "  </thead>\n",
       "  <tbody>\n",
       "    <tr>\n",
       "      <th>328517</th>\n",
       "      <td>chr17</td>\n",
       "      <td>38023000</td>\n",
       "      <td>38024000</td>\n",
       "      <td>chr17_38023</td>\n",
       "    </tr>\n",
       "  </tbody>\n",
       "</table>\n",
       "</div>"
      ],
      "text/plain": [
       "          chr  chromStart  chromEnd         name\n",
       "328517  chr17    38023000  38024000  chr17_38023"
      ]
     },
     "execution_count": 36,
     "metadata": {},
     "output_type": "execute_result"
    }
   ],
   "source": [
    "genomic_bin_df[genomic_bin_df['name'] == 'chr17_38023']"
   ]
  },
  {
   "cell_type": "markdown",
   "metadata": {},
   "source": [
    "This means the index of the genomic bin of our interest is 328517"
   ]
  },
  {
   "cell_type": "markdown",
   "metadata": {},
   "source": [
    "### Step 2: Which component is important for a given genomic bin -- genomic bin squared cosine score\n",
    "- Let's write our decomposition as X = UDV' where X is input feature matrix, D is diagonal singular value matrix, U is left singular vector matrix (on assay space), V is right singular vector matrix (on genomic bin space), and `'` denotes the transposition of the matrix.\n",
    "- Genomic bin squared cosine score is defined as L2-normalized version of the matrix product (VD) so that any given slice for a given genomic bin has Euclidian norm of 1. \n",
    "- The interpretation of the score is it represents the relative importance of the component given a genomic bin.\n",
    "- More formal definition:\n",
    "  - https://docs.google.com/document/d/1YRuaIvHvjb_6SJwlml1dQDegiGlGbdfz_zN-5bneroE/edit?usp=sharing\n",
    " "
   ]
  },
  {
   "cell_type": "markdown",
   "metadata": {},
   "source": [
    "#### read the decomposed matrices"
   ]
  },
  {
   "cell_type": "code",
   "execution_count": 14,
   "metadata": {},
   "outputs": [],
   "source": [
    "def read_decomposed_matrix(filename, compression=None):\n",
    "    if((compression is None) and (len(filename) > 3) and (filename[-3:] == '.gz')):\n",
    "        compression='gzip'\n",
    "    df = pd.read_csv(\n",
    "        os.path.join(data_dir, filename),\n",
    "        compression=compression\n",
    "    )\n",
    "    mat = df.iloc[:, 1:].as_matrix()\n",
    "    idx = df.iloc[:, 0].as_matrix()\n",
    "    return mat, idx"
   ]
  },
  {
   "cell_type": "code",
   "execution_count": 28,
   "metadata": {},
   "outputs": [],
   "source": [
    "d_mat_temp, d_idx = read_decomposed_matrix(os.path.join(data_dir, 'diagonalScore.csv.gz'))\n",
    "d_vec = d_mat_temp[:, 0]\n"
   ]
  },
  {
   "cell_type": "code",
   "execution_count": 15,
   "metadata": {},
   "outputs": [],
   "source": [
    "u_mat, u_idx = read_decomposed_matrix(os.path.join(data_dir, 'uScore.csv.gz'))\n"
   ]
  },
  {
   "cell_type": "code",
   "execution_count": 29,
   "metadata": {},
   "outputs": [],
   "source": [
    "v_mat, v_idx = read_decomposed_matrix(os.path.join(data_dir, 'vScore.csv.gz'))\n"
   ]
  },
  {
   "cell_type": "code",
   "execution_count": 30,
   "metadata": {},
   "outputs": [
    {
     "data": {
      "text/plain": [
       "((652,), (652, 652), (379541, 652), (652,), (652,), (379541,))"
      ]
     },
     "execution_count": 30,
     "metadata": {},
     "output_type": "execute_result"
    }
   ],
   "source": [
    "d_vec.shape, u_mat.shape, v_mat.shape, d_idx.shape, u_idx.shape, v_idx.shape"
   ]
  },
  {
   "cell_type": "markdown",
   "metadata": {},
   "source": [
    "#### compute matrix products, UD and VD"
   ]
  },
  {
   "cell_type": "code",
   "execution_count": 38,
   "metadata": {},
   "outputs": [],
   "source": [
    "u_dot_d = np.dot(u_mat, np.diag(d_vec))\n"
   ]
  },
  {
   "cell_type": "code",
   "execution_count": 39,
   "metadata": {},
   "outputs": [],
   "source": [
    "v_dot_d = np.dot(v_mat, np.diag(d_vec))\n"
   ]
  },
  {
   "cell_type": "code",
   "execution_count": 40,
   "metadata": {},
   "outputs": [
    {
     "data": {
      "text/plain": [
       "((652, 652), (379541, 652))"
      ]
     },
     "execution_count": 40,
     "metadata": {},
     "output_type": "execute_result"
    }
   ],
   "source": [
    "u_dot_d.shape, v_dot_d.shape"
   ]
  },
  {
   "cell_type": "markdown",
   "metadata": {},
   "source": [
    "#### compute normalized matrices\n",
    "- v_dot_d_find_pcs: genomic bin --> which PC? genomic bin squared contribution score.\n",
    "- u_dot_d_fine_pcs: assay       --> which PC? assay squared contribution score.\n",
    "- v_dot_d_find_loci: PC --> which genomic bins? genomic bin contribution score.\n",
    "- u_dot_d_find_assay: PC --> which assay? assay contribution score"
   ]
  },
  {
   "cell_type": "code",
   "execution_count": 44,
   "metadata": {},
   "outputs": [],
   "source": [
    "v_dot_d_find_pcs = (v_dot_d ** 2 ) / (np.sum(v_dot_d ** 2, axis = 1)[:,np.newaxis])\n"
   ]
  },
  {
   "cell_type": "code",
   "execution_count": 45,
   "metadata": {},
   "outputs": [],
   "source": [
    "u_dot_d_find_pcs = (u_dot_d ** 2 ) / (np.sum(u_dot_d ** 2, axis = 1)[:,np.newaxis])\n"
   ]
  },
  {
   "cell_type": "code",
   "execution_count": 53,
   "metadata": {},
   "outputs": [],
   "source": [
    "v_dot_d_find_loci = (v_dot_d ** 2 ) / (np.sum(v_dot_d ** 2, axis = 0)[np.newaxis, :])\n"
   ]
  },
  {
   "cell_type": "code",
   "execution_count": 54,
   "metadata": {},
   "outputs": [],
   "source": [
    "u_dot_d_find_assay = (u_dot_d ** 2 ) / (np.sum(u_dot_d ** 2, axis = 0)[np.newaxis, :])\n"
   ]
  },
  {
   "cell_type": "markdown",
   "metadata": {},
   "source": [
    "#### let's identify the top 3 important components for the genomic bin chr17_38023 (index: 328517)"
   ]
  },
  {
   "cell_type": "code",
   "execution_count": 91,
   "metadata": {},
   "outputs": [
    {
     "data": {
      "text/plain": [
       "array([ 7, 39,  5, 41,  1])"
      ]
     },
     "execution_count": 91,
     "metadata": {},
     "output_type": "execute_result"
    }
   ],
   "source": [
    "np.argsort(-v_dot_d_find_pcs[328517, :])[:5]"
   ]
  },
  {
   "cell_type": "code",
   "execution_count": 92,
   "metadata": {},
   "outputs": [
    {
     "data": {
      "text/plain": [
       "array([0.07565113, 0.06052896, 0.05604721, 0.04363581, 0.03172747])"
      ]
     },
     "execution_count": 92,
     "metadata": {},
     "output_type": "execute_result"
    }
   ],
   "source": [
    "v_dot_d_find_pcs[328517, np.argsort(-v_dot_d_find_pcs[328517, :])[:5]]"
   ]
  },
  {
   "cell_type": "markdown",
   "metadata": {},
   "source": [
    "This means PC7 (0-based index) is the most important component for this bin with 7.6% of squared cosine score, PC39 is the second important one with 6.1%, etc ..."
   ]
  },
  {
   "cell_type": "markdown",
   "metadata": {},
   "source": [
    "### Step 3: investigation of the components"
   ]
  },
  {
   "cell_type": "markdown",
   "metadata": {},
   "source": [
    "#### PC7 (the top component)\n",
    "\n",
    "We will investigate \n",
    "\n",
    "1. What assays are driving this component?\n",
    "1. What genomic loci are driving this component?\n",
    "1.  What are the top hits in the enrichment analysis?"
   ]
  },
  {
   "cell_type": "markdown",
   "metadata": {},
   "source": [
    "#### what assays are driving this component?"
   ]
  },
  {
   "cell_type": "code",
   "execution_count": 57,
   "metadata": {},
   "outputs": [
    {
     "data": {
      "text/plain": [
       "array([188, 441, 433, 434, 439])"
      ]
     },
     "execution_count": 57,
     "metadata": {},
     "output_type": "execute_result"
    }
   ],
   "source": [
    "np.argsort(-u_dot_d_find_assay[:, 7])[:5]"
   ]
  },
  {
   "cell_type": "code",
   "execution_count": 58,
   "metadata": {},
   "outputs": [
    {
     "data": {
      "text/plain": [
       "array([0.09254222, 0.08990549, 0.08470579, 0.06732091, 0.04859752])"
      ]
     },
     "execution_count": 58,
     "metadata": {},
     "output_type": "execute_result"
    }
   ],
   "source": [
    "u_dot_d_find_assay[np.argsort(-u_dot_d_find_assay[:, 7])[:5], 7]"
   ]
  },
  {
   "cell_type": "markdown",
   "metadata": {},
   "source": [
    "The assays with the indices (where is the correspondance table?) are important for this component with 9.3%, 9.0%, etc. of *assay contribution score*"
   ]
  },
  {
   "cell_type": "markdown",
   "metadata": {},
   "source": [
    "#### what genomic bins are driving this component?"
   ]
  },
  {
   "cell_type": "code",
   "execution_count": 60,
   "metadata": {},
   "outputs": [
    {
     "data": {
      "text/plain": [
       "array([249953, 224313, 330510, 273660, 294763])"
      ]
     },
     "execution_count": 60,
     "metadata": {},
     "output_type": "execute_result"
    }
   ],
   "source": [
    "np.argsort(-v_dot_d_find_loci[:, 7])[:5]"
   ]
  },
  {
   "cell_type": "code",
   "execution_count": 61,
   "metadata": {},
   "outputs": [
    {
     "data": {
      "text/plain": [
       "array([6.58942556e-05, 6.22829820e-05, 6.12494759e-05, 6.06528861e-05,\n",
       "       5.92396118e-05])"
      ]
     },
     "execution_count": 61,
     "metadata": {},
     "output_type": "execute_result"
    }
   ],
   "source": [
    "v_dot_d_find_loci[np.argsort(-v_dot_d_find_loci[:, 7])[:5], 7]"
   ]
  },
  {
   "cell_type": "markdown",
   "metadata": {},
   "source": [
    "These genomic bins are important for PC7. Note the genomic bin contribution scores are very small compared to assay contribution score. This is expected becasue of the large number of genomic bins in the whole-genome analysis."
   ]
  },
  {
   "cell_type": "markdown",
   "metadata": {},
   "source": [
    "#### where is our loci of interest, chr17_38023 (index: 328517), in this ranking?"
   ]
  },
  {
   "cell_type": "code",
   "execution_count": 64,
   "metadata": {},
   "outputs": [
    {
     "data": {
      "text/plain": [
       "19302"
      ]
     },
     "execution_count": 64,
     "metadata": {},
     "output_type": "execute_result"
    }
   ],
   "source": [
    "np.sum(v_dot_d_find_loci[:, 7] >= v_dot_d_find_loci[328517, 7])"
   ]
  },
  {
   "cell_type": "code",
   "execution_count": 65,
   "metadata": {},
   "outputs": [
    {
     "data": {
      "text/plain": [
       "0.050856165737035"
      ]
     },
     "execution_count": 65,
     "metadata": {},
     "output_type": "execute_result"
    }
   ],
   "source": [
    "np.sum(v_dot_d_find_loci[:, 7] >= v_dot_d_find_loci[328517, 7]) / v_dot_d_find_loci.shape[0]"
   ]
  },
  {
   "cell_type": "markdown",
   "metadata": {},
   "source": [
    "It's roughly on the top 5 percentile.\n"
   ]
  },
  {
   "cell_type": "markdown",
   "metadata": {},
   "source": [
    "#### results of the enrichment analysis"
   ]
  },
  {
   "cell_type": "code",
   "execution_count": 72,
   "metadata": {},
   "outputs": [
    {
     "data": {
      "text/html": [
       "<div>\n",
       "<style scoped>\n",
       "    .dataframe tbody tr th:only-of-type {\n",
       "        vertical-align: middle;\n",
       "    }\n",
       "\n",
       "    .dataframe tbody tr th {\n",
       "        vertical-align: top;\n",
       "    }\n",
       "\n",
       "    .dataframe thead th {\n",
       "        text-align: right;\n",
       "    }\n",
       "</style>\n",
       "<table border=\"1\" class=\"dataframe\">\n",
       "  <thead>\n",
       "    <tr style=\"text-align: right;\">\n",
       "      <th></th>\n",
       "      <th># ID</th>\n",
       "      <th>Desc</th>\n",
       "      <th>BPval</th>\n",
       "      <th>BFold</th>\n",
       "    </tr>\n",
       "  </thead>\n",
       "  <tbody>\n",
       "    <tr>\n",
       "      <th>1</th>\n",
       "      <td>HP:0010537</td>\n",
       "      <td>Wide cranial sutures</td>\n",
       "      <td>0.000546</td>\n",
       "      <td>2.153747</td>\n",
       "    </tr>\n",
       "    <tr>\n",
       "      <th>2</th>\n",
       "      <td>HP:0007648</td>\n",
       "      <td>Punctate cataract</td>\n",
       "      <td>0.000557</td>\n",
       "      <td>2.641658</td>\n",
       "    </tr>\n",
       "    <tr>\n",
       "      <th>3</th>\n",
       "      <td>HP:0004492</td>\n",
       "      <td>Widely patent fontanelles and sutures</td>\n",
       "      <td>0.000622</td>\n",
       "      <td>2.173684</td>\n",
       "    </tr>\n",
       "    <tr>\n",
       "      <th>5</th>\n",
       "      <td>HP:0000894</td>\n",
       "      <td>Short clavicles</td>\n",
       "      <td>0.001024</td>\n",
       "      <td>2.020724</td>\n",
       "    </tr>\n",
       "    <tr>\n",
       "      <th>7</th>\n",
       "      <td>HP:0100720</td>\n",
       "      <td>Hypoplasia of the ear cartilage</td>\n",
       "      <td>0.001549</td>\n",
       "      <td>2.317628</td>\n",
       "    </tr>\n",
       "    <tr>\n",
       "      <th>8</th>\n",
       "      <td>HP:0000064</td>\n",
       "      <td>Hypoplastic labia minora</td>\n",
       "      <td>0.001655</td>\n",
       "      <td>2.302681</td>\n",
       "    </tr>\n",
       "    <tr>\n",
       "      <th>13</th>\n",
       "      <td>HP:0000851</td>\n",
       "      <td>Congenital hypothyroidism</td>\n",
       "      <td>0.002230</td>\n",
       "      <td>2.302182</td>\n",
       "    </tr>\n",
       "    <tr>\n",
       "      <th>15</th>\n",
       "      <td>HP:0001194</td>\n",
       "      <td>Abnormalities of placenta and umbilical cord</td>\n",
       "      <td>0.003565</td>\n",
       "      <td>2.080636</td>\n",
       "    </tr>\n",
       "    <tr>\n",
       "      <th>16</th>\n",
       "      <td>HP:0003724</td>\n",
       "      <td>Shoulder girdle muscle atrophy</td>\n",
       "      <td>0.004261</td>\n",
       "      <td>2.945603</td>\n",
       "    </tr>\n",
       "    <tr>\n",
       "      <th>17</th>\n",
       "      <td>HP:0012056</td>\n",
       "      <td>Cutaneous melanoma</td>\n",
       "      <td>0.004444</td>\n",
       "      <td>2.586142</td>\n",
       "    </tr>\n",
       "  </tbody>\n",
       "</table>\n",
       "</div>"
      ],
      "text/plain": [
       "          # ID                                          Desc     BPval  \\\n",
       "1   HP:0010537                          Wide cranial sutures  0.000546   \n",
       "2   HP:0007648                             Punctate cataract  0.000557   \n",
       "3   HP:0004492         Widely patent fontanelles and sutures  0.000622   \n",
       "5   HP:0000894                               Short clavicles  0.001024   \n",
       "7   HP:0100720               Hypoplasia of the ear cartilage  0.001549   \n",
       "8   HP:0000064                      Hypoplastic labia minora  0.001655   \n",
       "13  HP:0000851                     Congenital hypothyroidism  0.002230   \n",
       "15  HP:0001194  Abnormalities of placenta and umbilical cord  0.003565   \n",
       "16  HP:0003724                Shoulder girdle muscle atrophy  0.004261   \n",
       "17  HP:0012056                            Cutaneous melanoma  0.004444   \n",
       "\n",
       "       BFold  \n",
       "1   2.153747  \n",
       "2   2.641658  \n",
       "3   2.173684  \n",
       "5   2.020724  \n",
       "7   2.317628  \n",
       "8   2.302681  \n",
       "13  2.302182  \n",
       "15  2.080636  \n",
       "16  2.945603  \n",
       "17  2.586142  "
      ]
     },
     "execution_count": 72,
     "metadata": {},
     "output_type": "execute_result"
    }
   ],
   "source": [
    "read_great_res_wrapper(enrichment_data_dir, 7, 'HumanPhenotypeOntology').head(10)\n"
   ]
  },
  {
   "cell_type": "code",
   "execution_count": 68,
   "metadata": {},
   "outputs": [
    {
     "data": {
      "text/html": [
       "<div>\n",
       "<style scoped>\n",
       "    .dataframe tbody tr th:only-of-type {\n",
       "        vertical-align: middle;\n",
       "    }\n",
       "\n",
       "    .dataframe tbody tr th {\n",
       "        vertical-align: top;\n",
       "    }\n",
       "\n",
       "    .dataframe thead th {\n",
       "        text-align: right;\n",
       "    }\n",
       "</style>\n",
       "<table border=\"1\" class=\"dataframe\">\n",
       "  <thead>\n",
       "    <tr style=\"text-align: right;\">\n",
       "      <th></th>\n",
       "      <th># ID</th>\n",
       "      <th>Desc</th>\n",
       "      <th>BPval</th>\n",
       "      <th>BFold</th>\n",
       "    </tr>\n",
       "  </thead>\n",
       "  <tbody>\n",
       "    <tr>\n",
       "      <th>2</th>\n",
       "      <td>GO:0032211</td>\n",
       "      <td>negative regulation of telomere maintenance vi...</td>\n",
       "      <td>0.000031</td>\n",
       "      <td>3.811605</td>\n",
       "    </tr>\n",
       "    <tr>\n",
       "      <th>5</th>\n",
       "      <td>GO:1900746</td>\n",
       "      <td>regulation of vascular endothelial growth fact...</td>\n",
       "      <td>0.000054</td>\n",
       "      <td>3.840211</td>\n",
       "    </tr>\n",
       "    <tr>\n",
       "      <th>6</th>\n",
       "      <td>GO:0007004</td>\n",
       "      <td>telomere maintenance via telomerase</td>\n",
       "      <td>0.000083</td>\n",
       "      <td>3.018872</td>\n",
       "    </tr>\n",
       "    <tr>\n",
       "      <th>7</th>\n",
       "      <td>GO:0051974</td>\n",
       "      <td>negative regulation of telomerase activity</td>\n",
       "      <td>0.000087</td>\n",
       "      <td>3.131060</td>\n",
       "    </tr>\n",
       "    <tr>\n",
       "      <th>8</th>\n",
       "      <td>GO:0032210</td>\n",
       "      <td>regulation of telomere maintenance via telomerase</td>\n",
       "      <td>0.000168</td>\n",
       "      <td>2.840701</td>\n",
       "    </tr>\n",
       "    <tr>\n",
       "      <th>9</th>\n",
       "      <td>GO:0045663</td>\n",
       "      <td>positive regulation of myoblast differentiation</td>\n",
       "      <td>0.000267</td>\n",
       "      <td>2.001179</td>\n",
       "    </tr>\n",
       "    <tr>\n",
       "      <th>11</th>\n",
       "      <td>GO:0032205</td>\n",
       "      <td>negative regulation of telomere maintenance</td>\n",
       "      <td>0.000299</td>\n",
       "      <td>2.700491</td>\n",
       "    </tr>\n",
       "    <tr>\n",
       "      <th>12</th>\n",
       "      <td>GO:0016233</td>\n",
       "      <td>telomere capping</td>\n",
       "      <td>0.000395</td>\n",
       "      <td>3.819518</td>\n",
       "    </tr>\n",
       "    <tr>\n",
       "      <th>13</th>\n",
       "      <td>GO:0006278</td>\n",
       "      <td>RNA-dependent DNA replication</td>\n",
       "      <td>0.000426</td>\n",
       "      <td>2.460045</td>\n",
       "    </tr>\n",
       "    <tr>\n",
       "      <th>14</th>\n",
       "      <td>GO:0032202</td>\n",
       "      <td>telomere assembly</td>\n",
       "      <td>0.000491</td>\n",
       "      <td>3.711348</td>\n",
       "    </tr>\n",
       "  </tbody>\n",
       "</table>\n",
       "</div>"
      ],
      "text/plain": [
       "          # ID                                               Desc     BPval  \\\n",
       "2   GO:0032211  negative regulation of telomere maintenance vi...  0.000031   \n",
       "5   GO:1900746  regulation of vascular endothelial growth fact...  0.000054   \n",
       "6   GO:0007004                telomere maintenance via telomerase  0.000083   \n",
       "7   GO:0051974         negative regulation of telomerase activity  0.000087   \n",
       "8   GO:0032210  regulation of telomere maintenance via telomerase  0.000168   \n",
       "9   GO:0045663    positive regulation of myoblast differentiation  0.000267   \n",
       "11  GO:0032205        negative regulation of telomere maintenance  0.000299   \n",
       "12  GO:0016233                                   telomere capping  0.000395   \n",
       "13  GO:0006278                      RNA-dependent DNA replication  0.000426   \n",
       "14  GO:0032202                                  telomere assembly  0.000491   \n",
       "\n",
       "       BFold  \n",
       "2   3.811605  \n",
       "5   3.840211  \n",
       "6   3.018872  \n",
       "7   3.131060  \n",
       "8   2.840701  \n",
       "9   2.001179  \n",
       "11  2.700491  \n",
       "12  3.819518  \n",
       "13  2.460045  \n",
       "14  3.711348  "
      ]
     },
     "execution_count": 68,
     "metadata": {},
     "output_type": "execute_result"
    }
   ],
   "source": [
    "read_great_res_wrapper(enrichment_data_dir, 7, 'GOBiologicalProcess').head(10)\n"
   ]
  },
  {
   "cell_type": "code",
   "execution_count": 69,
   "metadata": {},
   "outputs": [
    {
     "data": {
      "text/html": [
       "<div>\n",
       "<style scoped>\n",
       "    .dataframe tbody tr th:only-of-type {\n",
       "        vertical-align: middle;\n",
       "    }\n",
       "\n",
       "    .dataframe tbody tr th {\n",
       "        vertical-align: top;\n",
       "    }\n",
       "\n",
       "    .dataframe thead th {\n",
       "        text-align: right;\n",
       "    }\n",
       "</style>\n",
       "<table border=\"1\" class=\"dataframe\">\n",
       "  <thead>\n",
       "    <tr style=\"text-align: right;\">\n",
       "      <th></th>\n",
       "      <th># ID</th>\n",
       "      <th>Desc</th>\n",
       "      <th>BPval</th>\n",
       "      <th>BFold</th>\n",
       "    </tr>\n",
       "  </thead>\n",
       "  <tbody>\n",
       "    <tr>\n",
       "      <th>0</th>\n",
       "      <td>MP:0008453</td>\n",
       "      <td>decreased retinal rod cell number</td>\n",
       "      <td>0.000120</td>\n",
       "      <td>2.574294</td>\n",
       "    </tr>\n",
       "    <tr>\n",
       "      <th>5</th>\n",
       "      <td>MP:0009189</td>\n",
       "      <td>abnormal pancreatic epsilon cell morphology</td>\n",
       "      <td>0.000734</td>\n",
       "      <td>2.289573</td>\n",
       "    </tr>\n",
       "    <tr>\n",
       "      <th>7</th>\n",
       "      <td>MP:0006290</td>\n",
       "      <td>proboscis</td>\n",
       "      <td>0.000759</td>\n",
       "      <td>2.140978</td>\n",
       "    </tr>\n",
       "    <tr>\n",
       "      <th>9</th>\n",
       "      <td>MP:0005229</td>\n",
       "      <td>abnormal intervertebral disk development</td>\n",
       "      <td>0.000777</td>\n",
       "      <td>2.097987</td>\n",
       "    </tr>\n",
       "    <tr>\n",
       "      <th>31</th>\n",
       "      <td>MP:0009014</td>\n",
       "      <td>prolonged proestrus</td>\n",
       "      <td>0.002114</td>\n",
       "      <td>2.480344</td>\n",
       "    </tr>\n",
       "    <tr>\n",
       "      <th>52</th>\n",
       "      <td>MP:0001238</td>\n",
       "      <td>thin epidermis stratum spinosum</td>\n",
       "      <td>0.004226</td>\n",
       "      <td>2.377468</td>\n",
       "    </tr>\n",
       "    <tr>\n",
       "      <th>53</th>\n",
       "      <td>MP:0011016</td>\n",
       "      <td>increased core body temperature</td>\n",
       "      <td>0.004271</td>\n",
       "      <td>2.213799</td>\n",
       "    </tr>\n",
       "    <tr>\n",
       "      <th>60</th>\n",
       "      <td>MP:0010939</td>\n",
       "      <td>abnormal mandibular prominence morphology</td>\n",
       "      <td>0.004729</td>\n",
       "      <td>2.188475</td>\n",
       "    </tr>\n",
       "    <tr>\n",
       "      <th>63</th>\n",
       "      <td>MP:0006197</td>\n",
       "      <td>ocular hypotelorism</td>\n",
       "      <td>0.004913</td>\n",
       "      <td>2.117124</td>\n",
       "    </tr>\n",
       "    <tr>\n",
       "      <th>64</th>\n",
       "      <td>MP:0003701</td>\n",
       "      <td>elevated level of mitotic sister chromatid exc...</td>\n",
       "      <td>0.004945</td>\n",
       "      <td>2.548150</td>\n",
       "    </tr>\n",
       "  </tbody>\n",
       "</table>\n",
       "</div>"
      ],
      "text/plain": [
       "          # ID                                               Desc     BPval  \\\n",
       "0   MP:0008453                  decreased retinal rod cell number  0.000120   \n",
       "5   MP:0009189        abnormal pancreatic epsilon cell morphology  0.000734   \n",
       "7   MP:0006290                                          proboscis  0.000759   \n",
       "9   MP:0005229           abnormal intervertebral disk development  0.000777   \n",
       "31  MP:0009014                                prolonged proestrus  0.002114   \n",
       "52  MP:0001238                    thin epidermis stratum spinosum  0.004226   \n",
       "53  MP:0011016                    increased core body temperature  0.004271   \n",
       "60  MP:0010939          abnormal mandibular prominence morphology  0.004729   \n",
       "63  MP:0006197                                ocular hypotelorism  0.004913   \n",
       "64  MP:0003701  elevated level of mitotic sister chromatid exc...  0.004945   \n",
       "\n",
       "       BFold  \n",
       "0   2.574294  \n",
       "5   2.289573  \n",
       "7   2.140978  \n",
       "9   2.097987  \n",
       "31  2.480344  \n",
       "52  2.377468  \n",
       "53  2.213799  \n",
       "60  2.188475  \n",
       "63  2.117124  \n",
       "64  2.548150  "
      ]
     },
     "execution_count": 69,
     "metadata": {},
     "output_type": "execute_result"
    }
   ],
   "source": [
    "read_great_res_wrapper(enrichment_data_dir, 7, 'MGIPhenotype').head(10)\n"
   ]
  },
  {
   "cell_type": "code",
   "execution_count": 71,
   "metadata": {},
   "outputs": [
    {
     "data": {
      "text/html": [
       "<div>\n",
       "<style scoped>\n",
       "    .dataframe tbody tr th:only-of-type {\n",
       "        vertical-align: middle;\n",
       "    }\n",
       "\n",
       "    .dataframe tbody tr th {\n",
       "        vertical-align: top;\n",
       "    }\n",
       "\n",
       "    .dataframe thead th {\n",
       "        text-align: right;\n",
       "    }\n",
       "</style>\n",
       "<table border=\"1\" class=\"dataframe\">\n",
       "  <thead>\n",
       "    <tr style=\"text-align: right;\">\n",
       "      <th></th>\n",
       "      <th># ID</th>\n",
       "      <th>Desc</th>\n",
       "      <th>BPval</th>\n",
       "      <th>BFold</th>\n",
       "    </tr>\n",
       "  </thead>\n",
       "  <tbody>\n",
       "    <tr>\n",
       "      <th>1</th>\n",
       "      <td>MP:0004122</td>\n",
       "      <td>abnormal sinus arrhythmia</td>\n",
       "      <td>0.000177</td>\n",
       "      <td>2.439509</td>\n",
       "    </tr>\n",
       "    <tr>\n",
       "      <th>2</th>\n",
       "      <td>MP:0009189</td>\n",
       "      <td>abnormal pancreatic epsilon cell morphology</td>\n",
       "      <td>0.000203</td>\n",
       "      <td>2.699333</td>\n",
       "    </tr>\n",
       "    <tr>\n",
       "      <th>12</th>\n",
       "      <td>MP:0003155</td>\n",
       "      <td>abnormal telomere length</td>\n",
       "      <td>0.001356</td>\n",
       "      <td>2.421640</td>\n",
       "    </tr>\n",
       "    <tr>\n",
       "      <th>14</th>\n",
       "      <td>MP:0009175</td>\n",
       "      <td>abnormal pancreatic beta cell differentiation</td>\n",
       "      <td>0.001372</td>\n",
       "      <td>2.222328</td>\n",
       "    </tr>\n",
       "    <tr>\n",
       "      <th>18</th>\n",
       "      <td>MP:0000869</td>\n",
       "      <td>abnormal cerebellum posterior vermis morphology</td>\n",
       "      <td>0.001503</td>\n",
       "      <td>2.153520</td>\n",
       "    </tr>\n",
       "    <tr>\n",
       "      <th>25</th>\n",
       "      <td>MP:0012055</td>\n",
       "      <td>abnormal phrenic nerve innervation pattern to ...</td>\n",
       "      <td>0.001860</td>\n",
       "      <td>3.345969</td>\n",
       "    </tr>\n",
       "    <tr>\n",
       "      <th>27</th>\n",
       "      <td>MP:0008727</td>\n",
       "      <td>enlarged heart right atrium</td>\n",
       "      <td>0.002134</td>\n",
       "      <td>2.854915</td>\n",
       "    </tr>\n",
       "    <tr>\n",
       "      <th>28</th>\n",
       "      <td>MP:0009957</td>\n",
       "      <td>abnormal cerebellum vermis lobule morphology</td>\n",
       "      <td>0.002209</td>\n",
       "      <td>2.127916</td>\n",
       "    </tr>\n",
       "    <tr>\n",
       "      <th>32</th>\n",
       "      <td>MP:0002704</td>\n",
       "      <td>tubular nephritis</td>\n",
       "      <td>0.002621</td>\n",
       "      <td>2.263936</td>\n",
       "    </tr>\n",
       "    <tr>\n",
       "      <th>36</th>\n",
       "      <td>MP:0010207</td>\n",
       "      <td>abnormal telomere morphology</td>\n",
       "      <td>0.003135</td>\n",
       "      <td>2.160905</td>\n",
       "    </tr>\n",
       "  </tbody>\n",
       "</table>\n",
       "</div>"
      ],
      "text/plain": [
       "          # ID                                               Desc     BPval  \\\n",
       "1   MP:0004122                          abnormal sinus arrhythmia  0.000177   \n",
       "2   MP:0009189        abnormal pancreatic epsilon cell morphology  0.000203   \n",
       "12  MP:0003155                           abnormal telomere length  0.001356   \n",
       "14  MP:0009175      abnormal pancreatic beta cell differentiation  0.001372   \n",
       "18  MP:0000869    abnormal cerebellum posterior vermis morphology  0.001503   \n",
       "25  MP:0012055  abnormal phrenic nerve innervation pattern to ...  0.001860   \n",
       "27  MP:0008727                        enlarged heart right atrium  0.002134   \n",
       "28  MP:0009957       abnormal cerebellum vermis lobule morphology  0.002209   \n",
       "32  MP:0002704                                  tubular nephritis  0.002621   \n",
       "36  MP:0010207                       abnormal telomere morphology  0.003135   \n",
       "\n",
       "       BFold  \n",
       "1   2.439509  \n",
       "2   2.699333  \n",
       "12  2.421640  \n",
       "14  2.222328  \n",
       "18  2.153520  \n",
       "25  3.345969  \n",
       "27  2.854915  \n",
       "28  2.127916  \n",
       "32  2.263936  \n",
       "36  2.160905  "
      ]
     },
     "execution_count": 71,
     "metadata": {},
     "output_type": "execute_result"
    }
   ],
   "source": [
    "read_great_res_wrapper(enrichment_data_dir, 7, 'MGIPhenoSingleKO').head(10)\n"
   ]
  },
  {
   "cell_type": "code",
   "execution_count": 73,
   "metadata": {},
   "outputs": [
    {
     "data": {
      "text/html": [
       "<div>\n",
       "<style scoped>\n",
       "    .dataframe tbody tr th:only-of-type {\n",
       "        vertical-align: middle;\n",
       "    }\n",
       "\n",
       "    .dataframe tbody tr th {\n",
       "        vertical-align: top;\n",
       "    }\n",
       "\n",
       "    .dataframe thead th {\n",
       "        text-align: right;\n",
       "    }\n",
       "</style>\n",
       "<table border=\"1\" class=\"dataframe\">\n",
       "  <thead>\n",
       "    <tr style=\"text-align: right;\">\n",
       "      <th></th>\n",
       "      <th># ID</th>\n",
       "      <th>Desc</th>\n",
       "      <th>BPval</th>\n",
       "      <th>BFold</th>\n",
       "    </tr>\n",
       "  </thead>\n",
       "  <tbody>\n",
       "    <tr>\n",
       "      <th>0</th>\n",
       "      <td>GO:0030126</td>\n",
       "      <td>COPI vesicle coat</td>\n",
       "      <td>0.000686</td>\n",
       "      <td>2.688020</td>\n",
       "    </tr>\n",
       "    <tr>\n",
       "      <th>1</th>\n",
       "      <td>GO:0000783</td>\n",
       "      <td>nuclear telomere cap complex</td>\n",
       "      <td>0.000691</td>\n",
       "      <td>2.800919</td>\n",
       "    </tr>\n",
       "    <tr>\n",
       "      <th>2</th>\n",
       "      <td>GO:0005838</td>\n",
       "      <td>proteasome regulatory particle</td>\n",
       "      <td>0.000739</td>\n",
       "      <td>3.075104</td>\n",
       "    </tr>\n",
       "    <tr>\n",
       "      <th>3</th>\n",
       "      <td>GO:0030663</td>\n",
       "      <td>COPI-coated vesicle membrane</td>\n",
       "      <td>0.000841</td>\n",
       "      <td>2.633313</td>\n",
       "    </tr>\n",
       "    <tr>\n",
       "      <th>5</th>\n",
       "      <td>GO:0005869</td>\n",
       "      <td>dynactin complex</td>\n",
       "      <td>0.001340</td>\n",
       "      <td>5.112060</td>\n",
       "    </tr>\n",
       "    <tr>\n",
       "      <th>8</th>\n",
       "      <td>GO:0030137</td>\n",
       "      <td>COPI-coated vesicle</td>\n",
       "      <td>0.002135</td>\n",
       "      <td>2.312546</td>\n",
       "    </tr>\n",
       "    <tr>\n",
       "      <th>10</th>\n",
       "      <td>GO:0022624</td>\n",
       "      <td>proteasome accessory complex</td>\n",
       "      <td>0.004053</td>\n",
       "      <td>2.301945</td>\n",
       "    </tr>\n",
       "    <tr>\n",
       "      <th>11</th>\n",
       "      <td>GO:0000145</td>\n",
       "      <td>exocyst</td>\n",
       "      <td>0.005402</td>\n",
       "      <td>2.042295</td>\n",
       "    </tr>\n",
       "    <tr>\n",
       "      <th>13</th>\n",
       "      <td>GO:0000780</td>\n",
       "      <td>condensed nuclear chromosome, centromeric region</td>\n",
       "      <td>0.007627</td>\n",
       "      <td>2.070883</td>\n",
       "    </tr>\n",
       "    <tr>\n",
       "      <th>22</th>\n",
       "      <td>GO:0005638</td>\n",
       "      <td>lamin filament</td>\n",
       "      <td>0.020245</td>\n",
       "      <td>3.257748</td>\n",
       "    </tr>\n",
       "  </tbody>\n",
       "</table>\n",
       "</div>"
      ],
      "text/plain": [
       "          # ID                                              Desc     BPval  \\\n",
       "0   GO:0030126                                 COPI vesicle coat  0.000686   \n",
       "1   GO:0000783                      nuclear telomere cap complex  0.000691   \n",
       "2   GO:0005838                    proteasome regulatory particle  0.000739   \n",
       "3   GO:0030663                      COPI-coated vesicle membrane  0.000841   \n",
       "5   GO:0005869                                  dynactin complex  0.001340   \n",
       "8   GO:0030137                               COPI-coated vesicle  0.002135   \n",
       "10  GO:0022624                      proteasome accessory complex  0.004053   \n",
       "11  GO:0000145                                           exocyst  0.005402   \n",
       "13  GO:0000780  condensed nuclear chromosome, centromeric region  0.007627   \n",
       "22  GO:0005638                                    lamin filament  0.020245   \n",
       "\n",
       "       BFold  \n",
       "0   2.688020  \n",
       "1   2.800919  \n",
       "2   3.075104  \n",
       "3   2.633313  \n",
       "5   5.112060  \n",
       "8   2.312546  \n",
       "10  2.301945  \n",
       "11  2.042295  \n",
       "13  2.070883  \n",
       "22  3.257748  "
      ]
     },
     "execution_count": 73,
     "metadata": {},
     "output_type": "execute_result"
    }
   ],
   "source": [
    "read_great_res_wrapper(enrichment_data_dir, 7, 'GOCellularComponent').head(10)\n"
   ]
  },
  {
   "cell_type": "code",
   "execution_count": 74,
   "metadata": {},
   "outputs": [
    {
     "data": {
      "text/html": [
       "<div>\n",
       "<style scoped>\n",
       "    .dataframe tbody tr th:only-of-type {\n",
       "        vertical-align: middle;\n",
       "    }\n",
       "\n",
       "    .dataframe tbody tr th {\n",
       "        vertical-align: top;\n",
       "    }\n",
       "\n",
       "    .dataframe thead th {\n",
       "        text-align: right;\n",
       "    }\n",
       "</style>\n",
       "<table border=\"1\" class=\"dataframe\">\n",
       "  <thead>\n",
       "    <tr style=\"text-align: right;\">\n",
       "      <th></th>\n",
       "      <th># ID</th>\n",
       "      <th>Desc</th>\n",
       "      <th>BPval</th>\n",
       "      <th>BFold</th>\n",
       "    </tr>\n",
       "  </thead>\n",
       "  <tbody>\n",
       "    <tr>\n",
       "      <th>2</th>\n",
       "      <td>GO:0004716</td>\n",
       "      <td>receptor signaling protein tyrosine kinase act...</td>\n",
       "      <td>0.004002</td>\n",
       "      <td>2.011743</td>\n",
       "    </tr>\n",
       "    <tr>\n",
       "      <th>3</th>\n",
       "      <td>GO:0004364</td>\n",
       "      <td>glutathione transferase activity</td>\n",
       "      <td>0.004410</td>\n",
       "      <td>2.466547</td>\n",
       "    </tr>\n",
       "    <tr>\n",
       "      <th>4</th>\n",
       "      <td>GO:0004185</td>\n",
       "      <td>serine-type carboxypeptidase activity</td>\n",
       "      <td>0.005957</td>\n",
       "      <td>2.792532</td>\n",
       "    </tr>\n",
       "    <tr>\n",
       "      <th>5</th>\n",
       "      <td>GO:0030957</td>\n",
       "      <td>Tat protein binding</td>\n",
       "      <td>0.008178</td>\n",
       "      <td>2.187170</td>\n",
       "    </tr>\n",
       "    <tr>\n",
       "      <th>9</th>\n",
       "      <td>GO:0005172</td>\n",
       "      <td>vascular endothelial growth factor receptor bi...</td>\n",
       "      <td>0.011852</td>\n",
       "      <td>2.157702</td>\n",
       "    </tr>\n",
       "    <tr>\n",
       "      <th>11</th>\n",
       "      <td>GO:0004602</td>\n",
       "      <td>glutathione peroxidase activity</td>\n",
       "      <td>0.013293</td>\n",
       "      <td>2.208935</td>\n",
       "    </tr>\n",
       "    <tr>\n",
       "      <th>13</th>\n",
       "      <td>GO:0004952</td>\n",
       "      <td>dopamine neurotransmitter receptor activity</td>\n",
       "      <td>0.014252</td>\n",
       "      <td>2.415118</td>\n",
       "    </tr>\n",
       "    <tr>\n",
       "      <th>14</th>\n",
       "      <td>GO:0043175</td>\n",
       "      <td>RNA polymerase core enzyme binding</td>\n",
       "      <td>0.014268</td>\n",
       "      <td>2.101530</td>\n",
       "    </tr>\n",
       "    <tr>\n",
       "      <th>15</th>\n",
       "      <td>GO:0043546</td>\n",
       "      <td>molybdopterin cofactor binding</td>\n",
       "      <td>0.014603</td>\n",
       "      <td>2.782694</td>\n",
       "    </tr>\n",
       "    <tr>\n",
       "      <th>23</th>\n",
       "      <td>GO:0004784</td>\n",
       "      <td>superoxide dismutase activity</td>\n",
       "      <td>0.020976</td>\n",
       "      <td>2.581173</td>\n",
       "    </tr>\n",
       "  </tbody>\n",
       "</table>\n",
       "</div>"
      ],
      "text/plain": [
       "          # ID                                               Desc     BPval  \\\n",
       "2   GO:0004716  receptor signaling protein tyrosine kinase act...  0.004002   \n",
       "3   GO:0004364                   glutathione transferase activity  0.004410   \n",
       "4   GO:0004185              serine-type carboxypeptidase activity  0.005957   \n",
       "5   GO:0030957                                Tat protein binding  0.008178   \n",
       "9   GO:0005172  vascular endothelial growth factor receptor bi...  0.011852   \n",
       "11  GO:0004602                    glutathione peroxidase activity  0.013293   \n",
       "13  GO:0004952        dopamine neurotransmitter receptor activity  0.014252   \n",
       "14  GO:0043175                 RNA polymerase core enzyme binding  0.014268   \n",
       "15  GO:0043546                     molybdopterin cofactor binding  0.014603   \n",
       "23  GO:0004784                      superoxide dismutase activity  0.020976   \n",
       "\n",
       "       BFold  \n",
       "2   2.011743  \n",
       "3   2.466547  \n",
       "4   2.792532  \n",
       "5   2.187170  \n",
       "9   2.157702  \n",
       "11  2.208935  \n",
       "13  2.415118  \n",
       "14  2.101530  \n",
       "15  2.782694  \n",
       "23  2.581173  "
      ]
     },
     "execution_count": 74,
     "metadata": {},
     "output_type": "execute_result"
    }
   ],
   "source": [
    "read_great_res_wrapper(enrichment_data_dir, 7, 'GOMolecularFunction').head(10)\n"
   ]
  },
  {
   "cell_type": "markdown",
   "metadata": {},
   "source": [
    "#### PC39 (the second component)\n"
   ]
  },
  {
   "cell_type": "code",
   "execution_count": 78,
   "metadata": {},
   "outputs": [],
   "source": [
    "component_idx=39"
   ]
  },
  {
   "cell_type": "markdown",
   "metadata": {},
   "source": [
    "#### what assays are driving this component?"
   ]
  },
  {
   "cell_type": "code",
   "execution_count": 79,
   "metadata": {},
   "outputs": [
    {
     "data": {
      "text/plain": [
       "array([ 47, 413, 415, 416, 225])"
      ]
     },
     "execution_count": 79,
     "metadata": {},
     "output_type": "execute_result"
    }
   ],
   "source": [
    "np.argsort(-u_dot_d_find_assay[:, component_idx])[:5]"
   ]
  },
  {
   "cell_type": "code",
   "execution_count": 80,
   "metadata": {},
   "outputs": [
    {
     "data": {
      "text/plain": [
       "array([0.20334155, 0.05140923, 0.03698147, 0.026487  , 0.02527061])"
      ]
     },
     "execution_count": 80,
     "metadata": {},
     "output_type": "execute_result"
    }
   ],
   "source": [
    "u_dot_d_find_assay[np.argsort(-u_dot_d_find_assay[:, component_idx])[:5], component_idx]"
   ]
  },
  {
   "cell_type": "markdown",
   "metadata": {},
   "source": [
    "The assays with the indices (where is the correspondance table?) are important for this component with 20%, 5.1%, etc. of *assay contribution score*\n",
    "\n",
    "I wonder what is assay #47."
   ]
  },
  {
   "cell_type": "markdown",
   "metadata": {},
   "source": [
    "#### what genomic bins are driving this component?"
   ]
  },
  {
   "cell_type": "code",
   "execution_count": 81,
   "metadata": {},
   "outputs": [
    {
     "data": {
      "text/plain": [
       "array([ 16462,  16461,   2563, 132423, 303976])"
      ]
     },
     "execution_count": 81,
     "metadata": {},
     "output_type": "execute_result"
    }
   ],
   "source": [
    "np.argsort(-v_dot_d_find_loci[:, component_idx])[:5]"
   ]
  },
  {
   "cell_type": "code",
   "execution_count": 82,
   "metadata": {},
   "outputs": [
    {
     "data": {
      "text/plain": [
       "array([0.00017904, 0.00016561, 0.00014659, 0.00013263, 0.00012933])"
      ]
     },
     "execution_count": 82,
     "metadata": {},
     "output_type": "execute_result"
    }
   ],
   "source": [
    "v_dot_d_find_loci[np.argsort(-v_dot_d_find_loci[:, component_idx])[:5], component_idx]"
   ]
  },
  {
   "cell_type": "markdown",
   "metadata": {},
   "source": [
    "#### where is our loci of interest, chr17_38023 (index: 328517), in this ranking?"
   ]
  },
  {
   "cell_type": "code",
   "execution_count": 83,
   "metadata": {},
   "outputs": [
    {
     "data": {
      "text/plain": [
       "4631"
      ]
     },
     "execution_count": 83,
     "metadata": {},
     "output_type": "execute_result"
    }
   ],
   "source": [
    "np.sum(v_dot_d_find_loci[:, component_idx] >= v_dot_d_find_loci[328517, component_idx])"
   ]
  },
  {
   "cell_type": "code",
   "execution_count": 84,
   "metadata": {},
   "outputs": [
    {
     "data": {
      "text/plain": [
       "0.01220158032992483"
      ]
     },
     "execution_count": 84,
     "metadata": {},
     "output_type": "execute_result"
    }
   ],
   "source": [
    "np.sum(v_dot_d_find_loci[:, component_idx] >= v_dot_d_find_loci[328517, component_idx]) / v_dot_d_find_loci.shape[0]"
   ]
  },
  {
   "cell_type": "markdown",
   "metadata": {},
   "source": [
    "It's roughly on the top 1 percentile.\n"
   ]
  },
  {
   "cell_type": "markdown",
   "metadata": {},
   "source": [
    "#### results of the enrichment analysis"
   ]
  },
  {
   "cell_type": "code",
   "execution_count": 85,
   "metadata": {},
   "outputs": [
    {
     "data": {
      "text/html": [
       "<div>\n",
       "<style scoped>\n",
       "    .dataframe tbody tr th:only-of-type {\n",
       "        vertical-align: middle;\n",
       "    }\n",
       "\n",
       "    .dataframe tbody tr th {\n",
       "        vertical-align: top;\n",
       "    }\n",
       "\n",
       "    .dataframe thead th {\n",
       "        text-align: right;\n",
       "    }\n",
       "</style>\n",
       "<table border=\"1\" class=\"dataframe\">\n",
       "  <thead>\n",
       "    <tr style=\"text-align: right;\">\n",
       "      <th></th>\n",
       "      <th># ID</th>\n",
       "      <th>Desc</th>\n",
       "      <th>BPval</th>\n",
       "      <th>BFold</th>\n",
       "    </tr>\n",
       "  </thead>\n",
       "  <tbody>\n",
       "    <tr>\n",
       "      <th>4</th>\n",
       "      <td>HP:0004332</td>\n",
       "      <td>Abnormality of lymphocytes</td>\n",
       "      <td>1.508808e-10</td>\n",
       "      <td>2.019461</td>\n",
       "    </tr>\n",
       "    <tr>\n",
       "      <th>5</th>\n",
       "      <td>HP:0002846</td>\n",
       "      <td>Abnormality of B cells</td>\n",
       "      <td>3.167175e-10</td>\n",
       "      <td>2.186231</td>\n",
       "    </tr>\n",
       "    <tr>\n",
       "      <th>6</th>\n",
       "      <td>HP:0010701</td>\n",
       "      <td>Abnormal immunoglobulin level</td>\n",
       "      <td>4.113557e-10</td>\n",
       "      <td>2.198288</td>\n",
       "    </tr>\n",
       "    <tr>\n",
       "      <th>7</th>\n",
       "      <td>HP:0005372</td>\n",
       "      <td>Abnormality of B cell physiology</td>\n",
       "      <td>5.608107e-10</td>\n",
       "      <td>2.182674</td>\n",
       "    </tr>\n",
       "    <tr>\n",
       "      <th>9</th>\n",
       "      <td>HP:0002960</td>\n",
       "      <td>Autoimmunity</td>\n",
       "      <td>6.655998e-09</td>\n",
       "      <td>2.465546</td>\n",
       "    </tr>\n",
       "    <tr>\n",
       "      <th>11</th>\n",
       "      <td>HP:0002850</td>\n",
       "      <td>IgM deficiency</td>\n",
       "      <td>1.992062e-08</td>\n",
       "      <td>4.196330</td>\n",
       "    </tr>\n",
       "    <tr>\n",
       "      <th>13</th>\n",
       "      <td>HP:0002621</td>\n",
       "      <td>Atherosclerosis</td>\n",
       "      <td>5.459813e-08</td>\n",
       "      <td>2.228612</td>\n",
       "    </tr>\n",
       "    <tr>\n",
       "      <th>15</th>\n",
       "      <td>HP:0002634</td>\n",
       "      <td>Arteriosclerosis</td>\n",
       "      <td>8.772000e-08</td>\n",
       "      <td>2.195991</td>\n",
       "    </tr>\n",
       "    <tr>\n",
       "      <th>16</th>\n",
       "      <td>HP:0004313</td>\n",
       "      <td>Hypogammaglobulinemia</td>\n",
       "      <td>8.781575e-08</td>\n",
       "      <td>2.101667</td>\n",
       "    </tr>\n",
       "    <tr>\n",
       "      <th>19</th>\n",
       "      <td>HP:0003049</td>\n",
       "      <td>Ulnar deviation of the wrist</td>\n",
       "      <td>2.243515e-07</td>\n",
       "      <td>7.139804</td>\n",
       "    </tr>\n",
       "  </tbody>\n",
       "</table>\n",
       "</div>"
      ],
      "text/plain": [
       "          # ID                              Desc         BPval     BFold\n",
       "4   HP:0004332        Abnormality of lymphocytes  1.508808e-10  2.019461\n",
       "5   HP:0002846            Abnormality of B cells  3.167175e-10  2.186231\n",
       "6   HP:0010701     Abnormal immunoglobulin level  4.113557e-10  2.198288\n",
       "7   HP:0005372  Abnormality of B cell physiology  5.608107e-10  2.182674\n",
       "9   HP:0002960                      Autoimmunity  6.655998e-09  2.465546\n",
       "11  HP:0002850                    IgM deficiency  1.992062e-08  4.196330\n",
       "13  HP:0002621                   Atherosclerosis  5.459813e-08  2.228612\n",
       "15  HP:0002634                  Arteriosclerosis  8.772000e-08  2.195991\n",
       "16  HP:0004313             Hypogammaglobulinemia  8.781575e-08  2.101667\n",
       "19  HP:0003049      Ulnar deviation of the wrist  2.243515e-07  7.139804"
      ]
     },
     "execution_count": 85,
     "metadata": {},
     "output_type": "execute_result"
    }
   ],
   "source": [
    "read_great_res_wrapper(enrichment_data_dir, component_idx, 'HumanPhenotypeOntology').head(10)\n"
   ]
  },
  {
   "cell_type": "code",
   "execution_count": 86,
   "metadata": {},
   "outputs": [
    {
     "data": {
      "text/html": [
       "<div>\n",
       "<style scoped>\n",
       "    .dataframe tbody tr th:only-of-type {\n",
       "        vertical-align: middle;\n",
       "    }\n",
       "\n",
       "    .dataframe tbody tr th {\n",
       "        vertical-align: top;\n",
       "    }\n",
       "\n",
       "    .dataframe thead th {\n",
       "        text-align: right;\n",
       "    }\n",
       "</style>\n",
       "<table border=\"1\" class=\"dataframe\">\n",
       "  <thead>\n",
       "    <tr style=\"text-align: right;\">\n",
       "      <th></th>\n",
       "      <th># ID</th>\n",
       "      <th>Desc</th>\n",
       "      <th>BPval</th>\n",
       "      <th>BFold</th>\n",
       "    </tr>\n",
       "  </thead>\n",
       "  <tbody>\n",
       "    <tr>\n",
       "      <th>10</th>\n",
       "      <td>GO:0048872</td>\n",
       "      <td>homeostasis of number of cells</td>\n",
       "      <td>3.107680e-19</td>\n",
       "      <td>2.057292</td>\n",
       "    </tr>\n",
       "    <tr>\n",
       "      <th>19</th>\n",
       "      <td>GO:0002429</td>\n",
       "      <td>immune response-activating cell surface recept...</td>\n",
       "      <td>3.968115e-17</td>\n",
       "      <td>2.012773</td>\n",
       "    </tr>\n",
       "    <tr>\n",
       "      <th>35</th>\n",
       "      <td>GO:0030595</td>\n",
       "      <td>leukocyte chemotaxis</td>\n",
       "      <td>2.791925e-14</td>\n",
       "      <td>2.291774</td>\n",
       "    </tr>\n",
       "    <tr>\n",
       "      <th>47</th>\n",
       "      <td>GO:0006909</td>\n",
       "      <td>phagocytosis</td>\n",
       "      <td>3.099261e-13</td>\n",
       "      <td>2.005439</td>\n",
       "    </tr>\n",
       "    <tr>\n",
       "      <th>50</th>\n",
       "      <td>GO:0038096</td>\n",
       "      <td>Fc-gamma receptor signaling pathway involved i...</td>\n",
       "      <td>4.648642e-13</td>\n",
       "      <td>2.390534</td>\n",
       "    </tr>\n",
       "    <tr>\n",
       "      <th>51</th>\n",
       "      <td>GO:0002431</td>\n",
       "      <td>Fc receptor mediated stimulatory signaling pat...</td>\n",
       "      <td>4.849220e-13</td>\n",
       "      <td>2.388601</td>\n",
       "    </tr>\n",
       "    <tr>\n",
       "      <th>52</th>\n",
       "      <td>GO:0038094</td>\n",
       "      <td>Fc-gamma receptor signaling pathway</td>\n",
       "      <td>4.950468e-13</td>\n",
       "      <td>2.387656</td>\n",
       "    </tr>\n",
       "    <tr>\n",
       "      <th>55</th>\n",
       "      <td>GO:0002262</td>\n",
       "      <td>myeloid cell homeostasis</td>\n",
       "      <td>1.087754e-12</td>\n",
       "      <td>2.120652</td>\n",
       "    </tr>\n",
       "    <tr>\n",
       "      <th>73</th>\n",
       "      <td>GO:0046637</td>\n",
       "      <td>regulation of alpha-beta T cell differentiation</td>\n",
       "      <td>6.950873e-12</td>\n",
       "      <td>2.548473</td>\n",
       "    </tr>\n",
       "    <tr>\n",
       "      <th>74</th>\n",
       "      <td>GO:0097193</td>\n",
       "      <td>intrinsic apoptotic signaling pathway</td>\n",
       "      <td>7.276055e-12</td>\n",
       "      <td>2.023523</td>\n",
       "    </tr>\n",
       "  </tbody>\n",
       "</table>\n",
       "</div>"
      ],
      "text/plain": [
       "          # ID                                               Desc  \\\n",
       "10  GO:0048872                     homeostasis of number of cells   \n",
       "19  GO:0002429  immune response-activating cell surface recept...   \n",
       "35  GO:0030595                               leukocyte chemotaxis   \n",
       "47  GO:0006909                                       phagocytosis   \n",
       "50  GO:0038096  Fc-gamma receptor signaling pathway involved i...   \n",
       "51  GO:0002431  Fc receptor mediated stimulatory signaling pat...   \n",
       "52  GO:0038094                Fc-gamma receptor signaling pathway   \n",
       "55  GO:0002262                           myeloid cell homeostasis   \n",
       "73  GO:0046637    regulation of alpha-beta T cell differentiation   \n",
       "74  GO:0097193              intrinsic apoptotic signaling pathway   \n",
       "\n",
       "           BPval     BFold  \n",
       "10  3.107680e-19  2.057292  \n",
       "19  3.968115e-17  2.012773  \n",
       "35  2.791925e-14  2.291774  \n",
       "47  3.099261e-13  2.005439  \n",
       "50  4.648642e-13  2.390534  \n",
       "51  4.849220e-13  2.388601  \n",
       "52  4.950468e-13  2.387656  \n",
       "55  1.087754e-12  2.120652  \n",
       "73  6.950873e-12  2.548473  \n",
       "74  7.276055e-12  2.023523  "
      ]
     },
     "execution_count": 86,
     "metadata": {},
     "output_type": "execute_result"
    }
   ],
   "source": [
    "read_great_res_wrapper(enrichment_data_dir, component_idx, 'GOBiologicalProcess').head(10)\n"
   ]
  },
  {
   "cell_type": "code",
   "execution_count": 87,
   "metadata": {},
   "outputs": [
    {
     "data": {
      "text/html": [
       "<div>\n",
       "<style scoped>\n",
       "    .dataframe tbody tr th:only-of-type {\n",
       "        vertical-align: middle;\n",
       "    }\n",
       "\n",
       "    .dataframe tbody tr th {\n",
       "        vertical-align: top;\n",
       "    }\n",
       "\n",
       "    .dataframe thead th {\n",
       "        text-align: right;\n",
       "    }\n",
       "</style>\n",
       "<table border=\"1\" class=\"dataframe\">\n",
       "  <thead>\n",
       "    <tr style=\"text-align: right;\">\n",
       "      <th></th>\n",
       "      <th># ID</th>\n",
       "      <th>Desc</th>\n",
       "      <th>BPval</th>\n",
       "      <th>BFold</th>\n",
       "    </tr>\n",
       "  </thead>\n",
       "  <tbody>\n",
       "    <tr>\n",
       "      <th>33</th>\n",
       "      <td>MP:0002498</td>\n",
       "      <td>abnormal acute inflammation</td>\n",
       "      <td>2.041602e-23</td>\n",
       "      <td>2.019778</td>\n",
       "    </tr>\n",
       "    <tr>\n",
       "      <th>45</th>\n",
       "      <td>MP:0005153</td>\n",
       "      <td>abnormal B cell proliferation</td>\n",
       "      <td>1.340759e-20</td>\n",
       "      <td>2.148382</td>\n",
       "    </tr>\n",
       "    <tr>\n",
       "      <th>46</th>\n",
       "      <td>MP:0005087</td>\n",
       "      <td>decreased acute inflammation</td>\n",
       "      <td>1.585143e-20</td>\n",
       "      <td>2.276109</td>\n",
       "    </tr>\n",
       "    <tr>\n",
       "      <th>50</th>\n",
       "      <td>MP:0008217</td>\n",
       "      <td>abnormal B cell activation</td>\n",
       "      <td>7.056544e-20</td>\n",
       "      <td>2.083458</td>\n",
       "    </tr>\n",
       "    <tr>\n",
       "      <th>53</th>\n",
       "      <td>MP:0005068</td>\n",
       "      <td>abnormal NK cell morphology</td>\n",
       "      <td>1.945316e-19</td>\n",
       "      <td>2.282522</td>\n",
       "    </tr>\n",
       "    <tr>\n",
       "      <th>56</th>\n",
       "      <td>MP:0008043</td>\n",
       "      <td>abnormal NK cell number</td>\n",
       "      <td>2.886092e-19</td>\n",
       "      <td>2.349993</td>\n",
       "    </tr>\n",
       "    <tr>\n",
       "      <th>61</th>\n",
       "      <td>MP:0000702</td>\n",
       "      <td>enlarged lymph nodes</td>\n",
       "      <td>6.721282e-19</td>\n",
       "      <td>2.045753</td>\n",
       "    </tr>\n",
       "    <tr>\n",
       "      <th>62</th>\n",
       "      <td>MP:0001876</td>\n",
       "      <td>decreased inflammatory response</td>\n",
       "      <td>6.916685e-19</td>\n",
       "      <td>2.018750</td>\n",
       "    </tr>\n",
       "    <tr>\n",
       "      <th>68</th>\n",
       "      <td>MP:0008781</td>\n",
       "      <td>abnormal B cell apoptosis</td>\n",
       "      <td>4.519980e-18</td>\n",
       "      <td>2.612855</td>\n",
       "    </tr>\n",
       "    <tr>\n",
       "      <th>70</th>\n",
       "      <td>MP:0008210</td>\n",
       "      <td>increased mature B cell number</td>\n",
       "      <td>1.493909e-17</td>\n",
       "      <td>2.155396</td>\n",
       "    </tr>\n",
       "  </tbody>\n",
       "</table>\n",
       "</div>"
      ],
      "text/plain": [
       "          # ID                             Desc         BPval     BFold\n",
       "33  MP:0002498      abnormal acute inflammation  2.041602e-23  2.019778\n",
       "45  MP:0005153    abnormal B cell proliferation  1.340759e-20  2.148382\n",
       "46  MP:0005087     decreased acute inflammation  1.585143e-20  2.276109\n",
       "50  MP:0008217       abnormal B cell activation  7.056544e-20  2.083458\n",
       "53  MP:0005068      abnormal NK cell morphology  1.945316e-19  2.282522\n",
       "56  MP:0008043          abnormal NK cell number  2.886092e-19  2.349993\n",
       "61  MP:0000702             enlarged lymph nodes  6.721282e-19  2.045753\n",
       "62  MP:0001876  decreased inflammatory response  6.916685e-19  2.018750\n",
       "68  MP:0008781        abnormal B cell apoptosis  4.519980e-18  2.612855\n",
       "70  MP:0008210   increased mature B cell number  1.493909e-17  2.155396"
      ]
     },
     "execution_count": 87,
     "metadata": {},
     "output_type": "execute_result"
    }
   ],
   "source": [
    "read_great_res_wrapper(enrichment_data_dir, component_idx, 'MGIPhenotype').head(10)\n"
   ]
  },
  {
   "cell_type": "code",
   "execution_count": 88,
   "metadata": {},
   "outputs": [
    {
     "data": {
      "text/html": [
       "<div>\n",
       "<style scoped>\n",
       "    .dataframe tbody tr th:only-of-type {\n",
       "        vertical-align: middle;\n",
       "    }\n",
       "\n",
       "    .dataframe tbody tr th {\n",
       "        vertical-align: top;\n",
       "    }\n",
       "\n",
       "    .dataframe thead th {\n",
       "        text-align: right;\n",
       "    }\n",
       "</style>\n",
       "<table border=\"1\" class=\"dataframe\">\n",
       "  <thead>\n",
       "    <tr style=\"text-align: right;\">\n",
       "      <th></th>\n",
       "      <th># ID</th>\n",
       "      <th>Desc</th>\n",
       "      <th>BPval</th>\n",
       "      <th>BFold</th>\n",
       "    </tr>\n",
       "  </thead>\n",
       "  <tbody>\n",
       "    <tr>\n",
       "      <th>43</th>\n",
       "      <td>MP:0005153</td>\n",
       "      <td>abnormal B cell proliferation</td>\n",
       "      <td>6.658586e-19</td>\n",
       "      <td>2.294310</td>\n",
       "    </tr>\n",
       "    <tr>\n",
       "      <th>46</th>\n",
       "      <td>MP:0008217</td>\n",
       "      <td>abnormal B cell activation</td>\n",
       "      <td>1.834708e-18</td>\n",
       "      <td>2.237208</td>\n",
       "    </tr>\n",
       "    <tr>\n",
       "      <th>50</th>\n",
       "      <td>MP:0011762</td>\n",
       "      <td>renal/urinary system inflammation</td>\n",
       "      <td>6.732876e-18</td>\n",
       "      <td>2.115589</td>\n",
       "    </tr>\n",
       "    <tr>\n",
       "      <th>51</th>\n",
       "      <td>MP:0005068</td>\n",
       "      <td>abnormal NK cell morphology</td>\n",
       "      <td>9.651842e-18</td>\n",
       "      <td>2.359271</td>\n",
       "    </tr>\n",
       "    <tr>\n",
       "      <th>53</th>\n",
       "      <td>MP:0008043</td>\n",
       "      <td>abnormal NK cell number</td>\n",
       "      <td>9.046579e-17</td>\n",
       "      <td>2.426455</td>\n",
       "    </tr>\n",
       "    <tr>\n",
       "      <th>61</th>\n",
       "      <td>MP:0002148</td>\n",
       "      <td>abnormal hypersensitivity reaction</td>\n",
       "      <td>7.926478e-16</td>\n",
       "      <td>2.213092</td>\n",
       "    </tr>\n",
       "    <tr>\n",
       "      <th>64</th>\n",
       "      <td>MP:0005095</td>\n",
       "      <td>decreased T cell proliferation</td>\n",
       "      <td>1.308548e-15</td>\n",
       "      <td>2.034887</td>\n",
       "    </tr>\n",
       "    <tr>\n",
       "      <th>69</th>\n",
       "      <td>MP:0005087</td>\n",
       "      <td>decreased acute inflammation</td>\n",
       "      <td>3.494310e-15</td>\n",
       "      <td>2.159936</td>\n",
       "    </tr>\n",
       "    <tr>\n",
       "      <th>71</th>\n",
       "      <td>MP:0004149</td>\n",
       "      <td>increased bone strength</td>\n",
       "      <td>4.202318e-15</td>\n",
       "      <td>5.577540</td>\n",
       "    </tr>\n",
       "    <tr>\n",
       "      <th>73</th>\n",
       "      <td>MP:0008781</td>\n",
       "      <td>abnormal B cell apoptosis</td>\n",
       "      <td>6.751364e-15</td>\n",
       "      <td>3.027338</td>\n",
       "    </tr>\n",
       "  </tbody>\n",
       "</table>\n",
       "</div>"
      ],
      "text/plain": [
       "          # ID                                Desc         BPval     BFold\n",
       "43  MP:0005153       abnormal B cell proliferation  6.658586e-19  2.294310\n",
       "46  MP:0008217          abnormal B cell activation  1.834708e-18  2.237208\n",
       "50  MP:0011762   renal/urinary system inflammation  6.732876e-18  2.115589\n",
       "51  MP:0005068         abnormal NK cell morphology  9.651842e-18  2.359271\n",
       "53  MP:0008043             abnormal NK cell number  9.046579e-17  2.426455\n",
       "61  MP:0002148  abnormal hypersensitivity reaction  7.926478e-16  2.213092\n",
       "64  MP:0005095      decreased T cell proliferation  1.308548e-15  2.034887\n",
       "69  MP:0005087        decreased acute inflammation  3.494310e-15  2.159936\n",
       "71  MP:0004149             increased bone strength  4.202318e-15  5.577540\n",
       "73  MP:0008781           abnormal B cell apoptosis  6.751364e-15  3.027338"
      ]
     },
     "execution_count": 88,
     "metadata": {},
     "output_type": "execute_result"
    }
   ],
   "source": [
    "read_great_res_wrapper(enrichment_data_dir, component_idx, 'MGIPhenoSingleKO').head(10)\n"
   ]
  },
  {
   "cell_type": "code",
   "execution_count": 89,
   "metadata": {},
   "outputs": [
    {
     "data": {
      "text/html": [
       "<div>\n",
       "<style scoped>\n",
       "    .dataframe tbody tr th:only-of-type {\n",
       "        vertical-align: middle;\n",
       "    }\n",
       "\n",
       "    .dataframe tbody tr th {\n",
       "        vertical-align: top;\n",
       "    }\n",
       "\n",
       "    .dataframe thead th {\n",
       "        text-align: right;\n",
       "    }\n",
       "</style>\n",
       "<table border=\"1\" class=\"dataframe\">\n",
       "  <thead>\n",
       "    <tr style=\"text-align: right;\">\n",
       "      <th></th>\n",
       "      <th># ID</th>\n",
       "      <th>Desc</th>\n",
       "      <th>BPval</th>\n",
       "      <th>BFold</th>\n",
       "    </tr>\n",
       "  </thead>\n",
       "  <tbody>\n",
       "    <tr>\n",
       "      <th>0</th>\n",
       "      <td>GO:0005925</td>\n",
       "      <td>focal adhesion</td>\n",
       "      <td>9.764139e-16</td>\n",
       "      <td>2.154349</td>\n",
       "    </tr>\n",
       "    <tr>\n",
       "      <th>1</th>\n",
       "      <td>GO:0005924</td>\n",
       "      <td>cell-substrate adherens junction</td>\n",
       "      <td>4.952786e-15</td>\n",
       "      <td>2.107207</td>\n",
       "    </tr>\n",
       "    <tr>\n",
       "      <th>2</th>\n",
       "      <td>GO:0030055</td>\n",
       "      <td>cell-substrate junction</td>\n",
       "      <td>9.267956e-15</td>\n",
       "      <td>2.016888</td>\n",
       "    </tr>\n",
       "    <tr>\n",
       "      <th>20</th>\n",
       "      <td>GO:0031228</td>\n",
       "      <td>intrinsic to Golgi membrane</td>\n",
       "      <td>1.150887e-07</td>\n",
       "      <td>2.084988</td>\n",
       "    </tr>\n",
       "    <tr>\n",
       "      <th>22</th>\n",
       "      <td>GO:0030173</td>\n",
       "      <td>integral to Golgi membrane</td>\n",
       "      <td>7.428579e-07</td>\n",
       "      <td>2.035796</td>\n",
       "    </tr>\n",
       "    <tr>\n",
       "      <th>27</th>\n",
       "      <td>GO:0002102</td>\n",
       "      <td>podosome</td>\n",
       "      <td>1.708912e-06</td>\n",
       "      <td>2.902913</td>\n",
       "    </tr>\n",
       "    <tr>\n",
       "      <th>28</th>\n",
       "      <td>GO:0001673</td>\n",
       "      <td>male germ cell nucleus</td>\n",
       "      <td>2.702340e-06</td>\n",
       "      <td>3.481693</td>\n",
       "    </tr>\n",
       "    <tr>\n",
       "      <th>29</th>\n",
       "      <td>GO:0043073</td>\n",
       "      <td>germ cell nucleus</td>\n",
       "      <td>3.139255e-06</td>\n",
       "      <td>3.026767</td>\n",
       "    </tr>\n",
       "    <tr>\n",
       "      <th>32</th>\n",
       "      <td>GO:0031526</td>\n",
       "      <td>brush border membrane</td>\n",
       "      <td>4.623854e-06</td>\n",
       "      <td>2.315726</td>\n",
       "    </tr>\n",
       "    <tr>\n",
       "      <th>36</th>\n",
       "      <td>GO:0005826</td>\n",
       "      <td>actomyosin contractile ring</td>\n",
       "      <td>9.448244e-06</td>\n",
       "      <td>5.419206</td>\n",
       "    </tr>\n",
       "  </tbody>\n",
       "</table>\n",
       "</div>"
      ],
      "text/plain": [
       "          # ID                              Desc         BPval     BFold\n",
       "0   GO:0005925                    focal adhesion  9.764139e-16  2.154349\n",
       "1   GO:0005924  cell-substrate adherens junction  4.952786e-15  2.107207\n",
       "2   GO:0030055           cell-substrate junction  9.267956e-15  2.016888\n",
       "20  GO:0031228       intrinsic to Golgi membrane  1.150887e-07  2.084988\n",
       "22  GO:0030173        integral to Golgi membrane  7.428579e-07  2.035796\n",
       "27  GO:0002102                          podosome  1.708912e-06  2.902913\n",
       "28  GO:0001673            male germ cell nucleus  2.702340e-06  3.481693\n",
       "29  GO:0043073                 germ cell nucleus  3.139255e-06  3.026767\n",
       "32  GO:0031526             brush border membrane  4.623854e-06  2.315726\n",
       "36  GO:0005826       actomyosin contractile ring  9.448244e-06  5.419206"
      ]
     },
     "execution_count": 89,
     "metadata": {},
     "output_type": "execute_result"
    }
   ],
   "source": [
    "read_great_res_wrapper(enrichment_data_dir, component_idx, 'GOCellularComponent').head(10)\n"
   ]
  },
  {
   "cell_type": "code",
   "execution_count": 90,
   "metadata": {},
   "outputs": [
    {
     "data": {
      "text/html": [
       "<div>\n",
       "<style scoped>\n",
       "    .dataframe tbody tr th:only-of-type {\n",
       "        vertical-align: middle;\n",
       "    }\n",
       "\n",
       "    .dataframe tbody tr th {\n",
       "        vertical-align: top;\n",
       "    }\n",
       "\n",
       "    .dataframe thead th {\n",
       "        text-align: right;\n",
       "    }\n",
       "</style>\n",
       "<table border=\"1\" class=\"dataframe\">\n",
       "  <thead>\n",
       "    <tr style=\"text-align: right;\">\n",
       "      <th></th>\n",
       "      <th># ID</th>\n",
       "      <th>Desc</th>\n",
       "      <th>BPval</th>\n",
       "      <th>BFold</th>\n",
       "    </tr>\n",
       "  </thead>\n",
       "  <tbody>\n",
       "    <tr>\n",
       "      <th>21</th>\n",
       "      <td>GO:0042379</td>\n",
       "      <td>chemokine receptor binding</td>\n",
       "      <td>3.518052e-08</td>\n",
       "      <td>2.959699</td>\n",
       "    </tr>\n",
       "    <tr>\n",
       "      <th>31</th>\n",
       "      <td>GO:0071889</td>\n",
       "      <td>14-3-3 protein binding</td>\n",
       "      <td>5.683577e-07</td>\n",
       "      <td>3.162299</td>\n",
       "    </tr>\n",
       "    <tr>\n",
       "      <th>32</th>\n",
       "      <td>GO:0008009</td>\n",
       "      <td>chemokine activity</td>\n",
       "      <td>7.881759e-07</td>\n",
       "      <td>2.829485</td>\n",
       "    </tr>\n",
       "    <tr>\n",
       "      <th>33</th>\n",
       "      <td>GO:0004826</td>\n",
       "      <td>phenylalanine-tRNA ligase activity</td>\n",
       "      <td>8.912586e-07</td>\n",
       "      <td>6.249892</td>\n",
       "    </tr>\n",
       "    <tr>\n",
       "      <th>35</th>\n",
       "      <td>GO:0017112</td>\n",
       "      <td>Rab guanyl-nucleotide exchange factor activity</td>\n",
       "      <td>2.073320e-06</td>\n",
       "      <td>2.748608</td>\n",
       "    </tr>\n",
       "    <tr>\n",
       "      <th>39</th>\n",
       "      <td>GO:0035035</td>\n",
       "      <td>histone acetyltransferase binding</td>\n",
       "      <td>3.481090e-06</td>\n",
       "      <td>2.674145</td>\n",
       "    </tr>\n",
       "    <tr>\n",
       "      <th>40</th>\n",
       "      <td>GO:0042975</td>\n",
       "      <td>peroxisome proliferator activated receptor bin...</td>\n",
       "      <td>3.565991e-06</td>\n",
       "      <td>4.099304</td>\n",
       "    </tr>\n",
       "    <tr>\n",
       "      <th>46</th>\n",
       "      <td>GO:0005138</td>\n",
       "      <td>interleukin-6 receptor binding</td>\n",
       "      <td>1.492873e-05</td>\n",
       "      <td>4.078269</td>\n",
       "    </tr>\n",
       "    <tr>\n",
       "      <th>50</th>\n",
       "      <td>GO:0008432</td>\n",
       "      <td>JUN kinase binding</td>\n",
       "      <td>1.744005e-05</td>\n",
       "      <td>5.622004</td>\n",
       "    </tr>\n",
       "    <tr>\n",
       "      <th>54</th>\n",
       "      <td>GO:0005160</td>\n",
       "      <td>transforming growth factor beta receptor binding</td>\n",
       "      <td>3.408384e-05</td>\n",
       "      <td>2.281372</td>\n",
       "    </tr>\n",
       "  </tbody>\n",
       "</table>\n",
       "</div>"
      ],
      "text/plain": [
       "          # ID                                               Desc  \\\n",
       "21  GO:0042379                         chemokine receptor binding   \n",
       "31  GO:0071889                             14-3-3 protein binding   \n",
       "32  GO:0008009                                 chemokine activity   \n",
       "33  GO:0004826                 phenylalanine-tRNA ligase activity   \n",
       "35  GO:0017112     Rab guanyl-nucleotide exchange factor activity   \n",
       "39  GO:0035035                  histone acetyltransferase binding   \n",
       "40  GO:0042975  peroxisome proliferator activated receptor bin...   \n",
       "46  GO:0005138                     interleukin-6 receptor binding   \n",
       "50  GO:0008432                                 JUN kinase binding   \n",
       "54  GO:0005160   transforming growth factor beta receptor binding   \n",
       "\n",
       "           BPval     BFold  \n",
       "21  3.518052e-08  2.959699  \n",
       "31  5.683577e-07  3.162299  \n",
       "32  7.881759e-07  2.829485  \n",
       "33  8.912586e-07  6.249892  \n",
       "35  2.073320e-06  2.748608  \n",
       "39  3.481090e-06  2.674145  \n",
       "40  3.565991e-06  4.099304  \n",
       "46  1.492873e-05  4.078269  \n",
       "50  1.744005e-05  5.622004  \n",
       "54  3.408384e-05  2.281372  "
      ]
     },
     "execution_count": 90,
     "metadata": {},
     "output_type": "execute_result"
    }
   ],
   "source": [
    "read_great_res_wrapper(enrichment_data_dir, component_idx, 'GOMolecularFunction').head(10)\n"
   ]
  },
  {
   "cell_type": "markdown",
   "metadata": {},
   "source": [
    "#### PC5 (the thrird component)\n"
   ]
  },
  {
   "cell_type": "code",
   "execution_count": 93,
   "metadata": {},
   "outputs": [],
   "source": [
    "component_idx=5"
   ]
  },
  {
   "cell_type": "markdown",
   "metadata": {},
   "source": [
    "#### what assays are driving this component?"
   ]
  },
  {
   "cell_type": "code",
   "execution_count": 94,
   "metadata": {},
   "outputs": [
    {
     "data": {
      "text/plain": [
       "array([188, 433,  76, 434, 431])"
      ]
     },
     "execution_count": 94,
     "metadata": {},
     "output_type": "execute_result"
    }
   ],
   "source": [
    "np.argsort(-u_dot_d_find_assay[:, component_idx])[:5]"
   ]
  },
  {
   "cell_type": "code",
   "execution_count": 95,
   "metadata": {},
   "outputs": [
    {
     "data": {
      "text/plain": [
       "array([0.1195496 , 0.08228496, 0.05328201, 0.03843322, 0.03278715])"
      ]
     },
     "execution_count": 95,
     "metadata": {},
     "output_type": "execute_result"
    }
   ],
   "source": [
    "u_dot_d_find_assay[np.argsort(-u_dot_d_find_assay[:, component_idx])[:5], component_idx]"
   ]
  },
  {
   "cell_type": "markdown",
   "metadata": {},
   "source": [
    "#### what genomic bins are driving this component?"
   ]
  },
  {
   "cell_type": "code",
   "execution_count": 96,
   "metadata": {},
   "outputs": [
    {
     "data": {
      "text/plain": [
       "array([282969, 130825, 187463, 337732, 233484])"
      ]
     },
     "execution_count": 96,
     "metadata": {},
     "output_type": "execute_result"
    }
   ],
   "source": [
    "np.argsort(-v_dot_d_find_loci[:, component_idx])[:5]"
   ]
  },
  {
   "cell_type": "code",
   "execution_count": 97,
   "metadata": {},
   "outputs": [
    {
     "data": {
      "text/plain": [
       "array([8.04405926e-05, 6.46164381e-05, 6.45142013e-05, 6.39899652e-05,\n",
       "       6.37951179e-05])"
      ]
     },
     "execution_count": 97,
     "metadata": {},
     "output_type": "execute_result"
    }
   ],
   "source": [
    "v_dot_d_find_loci[np.argsort(-v_dot_d_find_loci[:, component_idx])[:5], component_idx]"
   ]
  },
  {
   "cell_type": "markdown",
   "metadata": {},
   "source": [
    "#### where is our loci of interest, chr17_38023 (index: 328517), in this ranking?"
   ]
  },
  {
   "cell_type": "code",
   "execution_count": 98,
   "metadata": {},
   "outputs": [
    {
     "data": {
      "text/plain": [
       "39281"
      ]
     },
     "execution_count": 98,
     "metadata": {},
     "output_type": "execute_result"
    }
   ],
   "source": [
    "np.sum(v_dot_d_find_loci[:, component_idx] >= v_dot_d_find_loci[328517, component_idx])"
   ]
  },
  {
   "cell_type": "code",
   "execution_count": 99,
   "metadata": {},
   "outputs": [
    {
     "data": {
      "text/plain": [
       "0.1034960649837567"
      ]
     },
     "execution_count": 99,
     "metadata": {},
     "output_type": "execute_result"
    }
   ],
   "source": [
    "np.sum(v_dot_d_find_loci[:, component_idx] >= v_dot_d_find_loci[328517, component_idx]) / v_dot_d_find_loci.shape[0]"
   ]
  },
  {
   "cell_type": "markdown",
   "metadata": {},
   "source": [
    "It's roughly on the top 10 percentile.\n"
   ]
  },
  {
   "cell_type": "markdown",
   "metadata": {},
   "source": [
    "#### results of the enrichment analysis"
   ]
  },
  {
   "cell_type": "code",
   "execution_count": 100,
   "metadata": {},
   "outputs": [
    {
     "data": {
      "text/html": [
       "<div>\n",
       "<style scoped>\n",
       "    .dataframe tbody tr th:only-of-type {\n",
       "        vertical-align: middle;\n",
       "    }\n",
       "\n",
       "    .dataframe tbody tr th {\n",
       "        vertical-align: top;\n",
       "    }\n",
       "\n",
       "    .dataframe thead th {\n",
       "        text-align: right;\n",
       "    }\n",
       "</style>\n",
       "<table border=\"1\" class=\"dataframe\">\n",
       "  <thead>\n",
       "    <tr style=\"text-align: right;\">\n",
       "      <th></th>\n",
       "      <th># ID</th>\n",
       "      <th>Desc</th>\n",
       "      <th>BPval</th>\n",
       "      <th>BFold</th>\n",
       "    </tr>\n",
       "  </thead>\n",
       "  <tbody>\n",
       "    <tr>\n",
       "      <th>0</th>\n",
       "      <td>HP:0002697</td>\n",
       "      <td>Parietal foramina</td>\n",
       "      <td>4.367679e-08</td>\n",
       "      <td>2.372433</td>\n",
       "    </tr>\n",
       "    <tr>\n",
       "      <th>1</th>\n",
       "      <td>HP:0004425</td>\n",
       "      <td>Flat forehead</td>\n",
       "      <td>1.568965e-06</td>\n",
       "      <td>2.735910</td>\n",
       "    </tr>\n",
       "    <tr>\n",
       "      <th>3</th>\n",
       "      <td>HP:0004442</td>\n",
       "      <td>Sagittal craniosynostosis</td>\n",
       "      <td>2.359962e-06</td>\n",
       "      <td>2.733096</td>\n",
       "    </tr>\n",
       "    <tr>\n",
       "      <th>4</th>\n",
       "      <td>HP:0002365</td>\n",
       "      <td>Hypoplasia of the brainstem</td>\n",
       "      <td>2.396735e-06</td>\n",
       "      <td>2.031767</td>\n",
       "    </tr>\n",
       "    <tr>\n",
       "      <th>5</th>\n",
       "      <td>HP:0010054</td>\n",
       "      <td>Abnormality of the first metatarsal</td>\n",
       "      <td>2.506458e-06</td>\n",
       "      <td>2.574793</td>\n",
       "    </tr>\n",
       "    <tr>\n",
       "      <th>7</th>\n",
       "      <td>HP:0006191</td>\n",
       "      <td>Deep palmar crease</td>\n",
       "      <td>4.189624e-06</td>\n",
       "      <td>2.977180</td>\n",
       "    </tr>\n",
       "    <tr>\n",
       "      <th>8</th>\n",
       "      <td>HP:0000557</td>\n",
       "      <td>Buphthalmos</td>\n",
       "      <td>4.706791e-06</td>\n",
       "      <td>2.287392</td>\n",
       "    </tr>\n",
       "    <tr>\n",
       "      <th>12</th>\n",
       "      <td>HP:0009836</td>\n",
       "      <td>Broad distal phalanx of finger</td>\n",
       "      <td>1.739019e-05</td>\n",
       "      <td>2.601329</td>\n",
       "    </tr>\n",
       "    <tr>\n",
       "      <th>18</th>\n",
       "      <td>HP:0003741</td>\n",
       "      <td>Congenital muscular dystrophy</td>\n",
       "      <td>3.098136e-05</td>\n",
       "      <td>2.094681</td>\n",
       "    </tr>\n",
       "    <tr>\n",
       "      <th>21</th>\n",
       "      <td>HP:0003535</td>\n",
       "      <td>3-Methylglutaconic aciduria</td>\n",
       "      <td>3.861840e-05</td>\n",
       "      <td>2.428799</td>\n",
       "    </tr>\n",
       "  </tbody>\n",
       "</table>\n",
       "</div>"
      ],
      "text/plain": [
       "          # ID                                 Desc         BPval     BFold\n",
       "0   HP:0002697                    Parietal foramina  4.367679e-08  2.372433\n",
       "1   HP:0004425                        Flat forehead  1.568965e-06  2.735910\n",
       "3   HP:0004442            Sagittal craniosynostosis  2.359962e-06  2.733096\n",
       "4   HP:0002365          Hypoplasia of the brainstem  2.396735e-06  2.031767\n",
       "5   HP:0010054  Abnormality of the first metatarsal  2.506458e-06  2.574793\n",
       "7   HP:0006191                   Deep palmar crease  4.189624e-06  2.977180\n",
       "8   HP:0000557                          Buphthalmos  4.706791e-06  2.287392\n",
       "12  HP:0009836       Broad distal phalanx of finger  1.739019e-05  2.601329\n",
       "18  HP:0003741        Congenital muscular dystrophy  3.098136e-05  2.094681\n",
       "21  HP:0003535          3-Methylglutaconic aciduria  3.861840e-05  2.428799"
      ]
     },
     "execution_count": 100,
     "metadata": {},
     "output_type": "execute_result"
    }
   ],
   "source": [
    "read_great_res_wrapper(enrichment_data_dir, component_idx, 'HumanPhenotypeOntology').head(10)\n"
   ]
  },
  {
   "cell_type": "code",
   "execution_count": 101,
   "metadata": {},
   "outputs": [
    {
     "data": {
      "text/html": [
       "<div>\n",
       "<style scoped>\n",
       "    .dataframe tbody tr th:only-of-type {\n",
       "        vertical-align: middle;\n",
       "    }\n",
       "\n",
       "    .dataframe tbody tr th {\n",
       "        vertical-align: top;\n",
       "    }\n",
       "\n",
       "    .dataframe thead th {\n",
       "        text-align: right;\n",
       "    }\n",
       "</style>\n",
       "<table border=\"1\" class=\"dataframe\">\n",
       "  <thead>\n",
       "    <tr style=\"text-align: right;\">\n",
       "      <th></th>\n",
       "      <th># ID</th>\n",
       "      <th>Desc</th>\n",
       "      <th>BPval</th>\n",
       "      <th>BFold</th>\n",
       "    </tr>\n",
       "  </thead>\n",
       "  <tbody>\n",
       "    <tr>\n",
       "      <th>62</th>\n",
       "      <td>GO:0035089</td>\n",
       "      <td>establishment of apical/basal cell polarity</td>\n",
       "      <td>0.000008</td>\n",
       "      <td>2.658500</td>\n",
       "    </tr>\n",
       "    <tr>\n",
       "      <th>76</th>\n",
       "      <td>GO:0075733</td>\n",
       "      <td>intracellular transport of virus</td>\n",
       "      <td>0.000012</td>\n",
       "      <td>2.073909</td>\n",
       "    </tr>\n",
       "    <tr>\n",
       "      <th>100</th>\n",
       "      <td>GO:0051775</td>\n",
       "      <td>response to redox state</td>\n",
       "      <td>0.000021</td>\n",
       "      <td>2.764178</td>\n",
       "    </tr>\n",
       "    <tr>\n",
       "      <th>108</th>\n",
       "      <td>GO:0061162</td>\n",
       "      <td>establishment of monopolar cell polarity</td>\n",
       "      <td>0.000025</td>\n",
       "      <td>2.320837</td>\n",
       "    </tr>\n",
       "    <tr>\n",
       "      <th>113</th>\n",
       "      <td>GO:0070127</td>\n",
       "      <td>tRNA aminoacylation for mitochondrial protein ...</td>\n",
       "      <td>0.000027</td>\n",
       "      <td>4.115960</td>\n",
       "    </tr>\n",
       "    <tr>\n",
       "      <th>116</th>\n",
       "      <td>GO:0071624</td>\n",
       "      <td>positive regulation of granulocyte chemotaxis</td>\n",
       "      <td>0.000029</td>\n",
       "      <td>2.016287</td>\n",
       "    </tr>\n",
       "    <tr>\n",
       "      <th>126</th>\n",
       "      <td>GO:0090023</td>\n",
       "      <td>positive regulation of neutrophil chemotaxis</td>\n",
       "      <td>0.000034</td>\n",
       "      <td>2.020100</td>\n",
       "    </tr>\n",
       "    <tr>\n",
       "      <th>148</th>\n",
       "      <td>GO:0018401</td>\n",
       "      <td>peptidyl-proline hydroxylation to 4-hydroxy-L-...</td>\n",
       "      <td>0.000056</td>\n",
       "      <td>2.373342</td>\n",
       "    </tr>\n",
       "    <tr>\n",
       "      <th>161</th>\n",
       "      <td>GO:0001672</td>\n",
       "      <td>regulation of chromatin assembly or disassembly</td>\n",
       "      <td>0.000072</td>\n",
       "      <td>3.185283</td>\n",
       "    </tr>\n",
       "    <tr>\n",
       "      <th>164</th>\n",
       "      <td>GO:0006999</td>\n",
       "      <td>nuclear pore organization</td>\n",
       "      <td>0.000077</td>\n",
       "      <td>2.528835</td>\n",
       "    </tr>\n",
       "  </tbody>\n",
       "</table>\n",
       "</div>"
      ],
      "text/plain": [
       "           # ID                                               Desc     BPval  \\\n",
       "62   GO:0035089        establishment of apical/basal cell polarity  0.000008   \n",
       "76   GO:0075733                   intracellular transport of virus  0.000012   \n",
       "100  GO:0051775                            response to redox state  0.000021   \n",
       "108  GO:0061162           establishment of monopolar cell polarity  0.000025   \n",
       "113  GO:0070127  tRNA aminoacylation for mitochondrial protein ...  0.000027   \n",
       "116  GO:0071624      positive regulation of granulocyte chemotaxis  0.000029   \n",
       "126  GO:0090023       positive regulation of neutrophil chemotaxis  0.000034   \n",
       "148  GO:0018401  peptidyl-proline hydroxylation to 4-hydroxy-L-...  0.000056   \n",
       "161  GO:0001672    regulation of chromatin assembly or disassembly  0.000072   \n",
       "164  GO:0006999                          nuclear pore organization  0.000077   \n",
       "\n",
       "        BFold  \n",
       "62   2.658500  \n",
       "76   2.073909  \n",
       "100  2.764178  \n",
       "108  2.320837  \n",
       "113  4.115960  \n",
       "116  2.016287  \n",
       "126  2.020100  \n",
       "148  2.373342  \n",
       "161  3.185283  \n",
       "164  2.528835  "
      ]
     },
     "execution_count": 101,
     "metadata": {},
     "output_type": "execute_result"
    }
   ],
   "source": [
    "read_great_res_wrapper(enrichment_data_dir, component_idx, 'GOBiologicalProcess').head(10)\n"
   ]
  },
  {
   "cell_type": "code",
   "execution_count": 102,
   "metadata": {},
   "outputs": [
    {
     "data": {
      "text/html": [
       "<div>\n",
       "<style scoped>\n",
       "    .dataframe tbody tr th:only-of-type {\n",
       "        vertical-align: middle;\n",
       "    }\n",
       "\n",
       "    .dataframe tbody tr th {\n",
       "        vertical-align: top;\n",
       "    }\n",
       "\n",
       "    .dataframe thead th {\n",
       "        text-align: right;\n",
       "    }\n",
       "</style>\n",
       "<table border=\"1\" class=\"dataframe\">\n",
       "  <thead>\n",
       "    <tr style=\"text-align: right;\">\n",
       "      <th></th>\n",
       "      <th># ID</th>\n",
       "      <th>Desc</th>\n",
       "      <th>BPval</th>\n",
       "      <th>BFold</th>\n",
       "    </tr>\n",
       "  </thead>\n",
       "  <tbody>\n",
       "    <tr>\n",
       "      <th>12</th>\n",
       "      <td>MP:0001771</td>\n",
       "      <td>abnormal circulating magnesium level</td>\n",
       "      <td>1.832349e-07</td>\n",
       "      <td>2.327122</td>\n",
       "    </tr>\n",
       "    <tr>\n",
       "      <th>19</th>\n",
       "      <td>MP:0003954</td>\n",
       "      <td>abnormal Reichert's membrane morphology</td>\n",
       "      <td>8.388949e-07</td>\n",
       "      <td>2.004437</td>\n",
       "    </tr>\n",
       "    <tr>\n",
       "      <th>53</th>\n",
       "      <td>MP:0002348</td>\n",
       "      <td>abnormal lymph node medulla morphology</td>\n",
       "      <td>9.682417e-06</td>\n",
       "      <td>2.903855</td>\n",
       "    </tr>\n",
       "    <tr>\n",
       "      <th>54</th>\n",
       "      <td>MP:0010092</td>\n",
       "      <td>increased circulating magnesium level</td>\n",
       "      <td>1.018919e-05</td>\n",
       "      <td>2.628006</td>\n",
       "    </tr>\n",
       "    <tr>\n",
       "      <th>59</th>\n",
       "      <td>MP:0009545</td>\n",
       "      <td>abnormal dermis papillary layer morphology</td>\n",
       "      <td>1.604188e-05</td>\n",
       "      <td>2.274394</td>\n",
       "    </tr>\n",
       "    <tr>\n",
       "      <th>60</th>\n",
       "      <td>MP:0010743</td>\n",
       "      <td>delayed suture closure</td>\n",
       "      <td>1.697130e-05</td>\n",
       "      <td>2.208579</td>\n",
       "    </tr>\n",
       "    <tr>\n",
       "      <th>65</th>\n",
       "      <td>MP:0001669</td>\n",
       "      <td>abnormal glucose absorption</td>\n",
       "      <td>2.245532e-05</td>\n",
       "      <td>2.618271</td>\n",
       "    </tr>\n",
       "    <tr>\n",
       "      <th>69</th>\n",
       "      <td>MP:0006210</td>\n",
       "      <td>abnormal orbit size</td>\n",
       "      <td>2.804297e-05</td>\n",
       "      <td>2.181630</td>\n",
       "    </tr>\n",
       "    <tr>\n",
       "      <th>77</th>\n",
       "      <td>MP:0002050</td>\n",
       "      <td>pheochromocytoma</td>\n",
       "      <td>3.830129e-05</td>\n",
       "      <td>2.589431</td>\n",
       "    </tr>\n",
       "    <tr>\n",
       "      <th>79</th>\n",
       "      <td>MP:0000666</td>\n",
       "      <td>decreased prostate gland duct number</td>\n",
       "      <td>4.319200e-05</td>\n",
       "      <td>2.700373</td>\n",
       "    </tr>\n",
       "  </tbody>\n",
       "</table>\n",
       "</div>"
      ],
      "text/plain": [
       "          # ID                                        Desc         BPval  \\\n",
       "12  MP:0001771        abnormal circulating magnesium level  1.832349e-07   \n",
       "19  MP:0003954     abnormal Reichert's membrane morphology  8.388949e-07   \n",
       "53  MP:0002348      abnormal lymph node medulla morphology  9.682417e-06   \n",
       "54  MP:0010092       increased circulating magnesium level  1.018919e-05   \n",
       "59  MP:0009545  abnormal dermis papillary layer morphology  1.604188e-05   \n",
       "60  MP:0010743                      delayed suture closure  1.697130e-05   \n",
       "65  MP:0001669                 abnormal glucose absorption  2.245532e-05   \n",
       "69  MP:0006210                         abnormal orbit size  2.804297e-05   \n",
       "77  MP:0002050                            pheochromocytoma  3.830129e-05   \n",
       "79  MP:0000666        decreased prostate gland duct number  4.319200e-05   \n",
       "\n",
       "       BFold  \n",
       "12  2.327122  \n",
       "19  2.004437  \n",
       "53  2.903855  \n",
       "54  2.628006  \n",
       "59  2.274394  \n",
       "60  2.208579  \n",
       "65  2.618271  \n",
       "69  2.181630  \n",
       "77  2.589431  \n",
       "79  2.700373  "
      ]
     },
     "execution_count": 102,
     "metadata": {},
     "output_type": "execute_result"
    }
   ],
   "source": [
    "read_great_res_wrapper(enrichment_data_dir, component_idx, 'MGIPhenotype').head(10)\n"
   ]
  },
  {
   "cell_type": "code",
   "execution_count": 103,
   "metadata": {},
   "outputs": [
    {
     "data": {
      "text/html": [
       "<div>\n",
       "<style scoped>\n",
       "    .dataframe tbody tr th:only-of-type {\n",
       "        vertical-align: middle;\n",
       "    }\n",
       "\n",
       "    .dataframe tbody tr th {\n",
       "        vertical-align: top;\n",
       "    }\n",
       "\n",
       "    .dataframe thead th {\n",
       "        text-align: right;\n",
       "    }\n",
       "</style>\n",
       "<table border=\"1\" class=\"dataframe\">\n",
       "  <thead>\n",
       "    <tr style=\"text-align: right;\">\n",
       "      <th></th>\n",
       "      <th># ID</th>\n",
       "      <th>Desc</th>\n",
       "      <th>BPval</th>\n",
       "      <th>BFold</th>\n",
       "    </tr>\n",
       "  </thead>\n",
       "  <tbody>\n",
       "    <tr>\n",
       "      <th>5</th>\n",
       "      <td>MP:0012129</td>\n",
       "      <td>failure of blastocyst formation</td>\n",
       "      <td>2.360537e-09</td>\n",
       "      <td>2.005173</td>\n",
       "    </tr>\n",
       "    <tr>\n",
       "      <th>8</th>\n",
       "      <td>MP:0002663</td>\n",
       "      <td>failure to form blastocele</td>\n",
       "      <td>3.603307e-09</td>\n",
       "      <td>2.004262</td>\n",
       "    </tr>\n",
       "    <tr>\n",
       "      <th>23</th>\n",
       "      <td>MP:0003954</td>\n",
       "      <td>abnormal Reichert's membrane morphology</td>\n",
       "      <td>8.388949e-07</td>\n",
       "      <td>2.004437</td>\n",
       "    </tr>\n",
       "    <tr>\n",
       "      <th>24</th>\n",
       "      <td>MP:0001771</td>\n",
       "      <td>abnormal circulating magnesium level</td>\n",
       "      <td>1.211860e-06</td>\n",
       "      <td>2.284786</td>\n",
       "    </tr>\n",
       "    <tr>\n",
       "      <th>33</th>\n",
       "      <td>MP:0010743</td>\n",
       "      <td>delayed suture closure</td>\n",
       "      <td>3.083532e-06</td>\n",
       "      <td>2.694599</td>\n",
       "    </tr>\n",
       "    <tr>\n",
       "      <th>34</th>\n",
       "      <td>MP:0002050</td>\n",
       "      <td>pheochromocytoma</td>\n",
       "      <td>3.483130e-06</td>\n",
       "      <td>3.010810</td>\n",
       "    </tr>\n",
       "    <tr>\n",
       "      <th>44</th>\n",
       "      <td>MP:0002348</td>\n",
       "      <td>abnormal lymph node medulla morphology</td>\n",
       "      <td>9.682417e-06</td>\n",
       "      <td>2.903855</td>\n",
       "    </tr>\n",
       "    <tr>\n",
       "      <th>48</th>\n",
       "      <td>MP:0009545</td>\n",
       "      <td>abnormal dermis papillary layer morphology</td>\n",
       "      <td>1.604188e-05</td>\n",
       "      <td>2.274394</td>\n",
       "    </tr>\n",
       "    <tr>\n",
       "      <th>60</th>\n",
       "      <td>MP:0000275</td>\n",
       "      <td>heart hyperplasia</td>\n",
       "      <td>4.592075e-05</td>\n",
       "      <td>2.012848</td>\n",
       "    </tr>\n",
       "    <tr>\n",
       "      <th>69</th>\n",
       "      <td>MP:0002031</td>\n",
       "      <td>increased adrenal gland tumor incidence</td>\n",
       "      <td>6.052274e-05</td>\n",
       "      <td>2.408676</td>\n",
       "    </tr>\n",
       "  </tbody>\n",
       "</table>\n",
       "</div>"
      ],
      "text/plain": [
       "          # ID                                        Desc         BPval  \\\n",
       "5   MP:0012129             failure of blastocyst formation  2.360537e-09   \n",
       "8   MP:0002663                  failure to form blastocele  3.603307e-09   \n",
       "23  MP:0003954     abnormal Reichert's membrane morphology  8.388949e-07   \n",
       "24  MP:0001771        abnormal circulating magnesium level  1.211860e-06   \n",
       "33  MP:0010743                      delayed suture closure  3.083532e-06   \n",
       "34  MP:0002050                            pheochromocytoma  3.483130e-06   \n",
       "44  MP:0002348      abnormal lymph node medulla morphology  9.682417e-06   \n",
       "48  MP:0009545  abnormal dermis papillary layer morphology  1.604188e-05   \n",
       "60  MP:0000275                           heart hyperplasia  4.592075e-05   \n",
       "69  MP:0002031     increased adrenal gland tumor incidence  6.052274e-05   \n",
       "\n",
       "       BFold  \n",
       "5   2.005173  \n",
       "8   2.004262  \n",
       "23  2.004437  \n",
       "24  2.284786  \n",
       "33  2.694599  \n",
       "34  3.010810  \n",
       "44  2.903855  \n",
       "48  2.274394  \n",
       "60  2.012848  \n",
       "69  2.408676  "
      ]
     },
     "execution_count": 103,
     "metadata": {},
     "output_type": "execute_result"
    }
   ],
   "source": [
    "read_great_res_wrapper(enrichment_data_dir, component_idx, 'MGIPhenoSingleKO').head(10)\n"
   ]
  },
  {
   "cell_type": "code",
   "execution_count": 104,
   "metadata": {},
   "outputs": [
    {
     "data": {
      "text/html": [
       "<div>\n",
       "<style scoped>\n",
       "    .dataframe tbody tr th:only-of-type {\n",
       "        vertical-align: middle;\n",
       "    }\n",
       "\n",
       "    .dataframe tbody tr th {\n",
       "        vertical-align: top;\n",
       "    }\n",
       "\n",
       "    .dataframe thead th {\n",
       "        text-align: right;\n",
       "    }\n",
       "</style>\n",
       "<table border=\"1\" class=\"dataframe\">\n",
       "  <thead>\n",
       "    <tr style=\"text-align: right;\">\n",
       "      <th></th>\n",
       "      <th># ID</th>\n",
       "      <th>Desc</th>\n",
       "      <th>BPval</th>\n",
       "      <th>BFold</th>\n",
       "    </tr>\n",
       "  </thead>\n",
       "  <tbody>\n",
       "    <tr>\n",
       "      <th>5</th>\n",
       "      <td>GO:0005606</td>\n",
       "      <td>laminin-1 complex</td>\n",
       "      <td>0.000001</td>\n",
       "      <td>2.325389</td>\n",
       "    </tr>\n",
       "    <tr>\n",
       "      <th>7</th>\n",
       "      <td>GO:0043256</td>\n",
       "      <td>laminin complex</td>\n",
       "      <td>0.000005</td>\n",
       "      <td>2.148635</td>\n",
       "    </tr>\n",
       "    <tr>\n",
       "      <th>21</th>\n",
       "      <td>GO:0019031</td>\n",
       "      <td>viral envelope</td>\n",
       "      <td>0.000610</td>\n",
       "      <td>2.839336</td>\n",
       "    </tr>\n",
       "    <tr>\n",
       "      <th>48</th>\n",
       "      <td>GO:0031080</td>\n",
       "      <td>nuclear pore outer ring</td>\n",
       "      <td>0.002727</td>\n",
       "      <td>2.255517</td>\n",
       "    </tr>\n",
       "    <tr>\n",
       "      <th>54</th>\n",
       "      <td>GO:0005666</td>\n",
       "      <td>DNA-directed RNA polymerase III complex</td>\n",
       "      <td>0.004041</td>\n",
       "      <td>2.228519</td>\n",
       "    </tr>\n",
       "    <tr>\n",
       "      <th>58</th>\n",
       "      <td>GO:0019908</td>\n",
       "      <td>nuclear cyclin-dependent protein kinase holoen...</td>\n",
       "      <td>0.004746</td>\n",
       "      <td>2.188418</td>\n",
       "    </tr>\n",
       "    <tr>\n",
       "      <th>72</th>\n",
       "      <td>GO:0016461</td>\n",
       "      <td>unconventional myosin complex</td>\n",
       "      <td>0.007764</td>\n",
       "      <td>2.067299</td>\n",
       "    </tr>\n",
       "    <tr>\n",
       "      <th>81</th>\n",
       "      <td>GO:0005677</td>\n",
       "      <td>chromatin silencing complex</td>\n",
       "      <td>0.010734</td>\n",
       "      <td>2.111160</td>\n",
       "    </tr>\n",
       "    <tr>\n",
       "      <th>85</th>\n",
       "      <td>GO:0005736</td>\n",
       "      <td>DNA-directed RNA polymerase I complex</td>\n",
       "      <td>0.011807</td>\n",
       "      <td>2.494752</td>\n",
       "    </tr>\n",
       "    <tr>\n",
       "      <th>93</th>\n",
       "      <td>GO:0005851</td>\n",
       "      <td>eukaryotic translation initiation factor 2B co...</td>\n",
       "      <td>0.014343</td>\n",
       "      <td>2.793472</td>\n",
       "    </tr>\n",
       "  </tbody>\n",
       "</table>\n",
       "</div>"
      ],
      "text/plain": [
       "          # ID                                               Desc     BPval  \\\n",
       "5   GO:0005606                                  laminin-1 complex  0.000001   \n",
       "7   GO:0043256                                    laminin complex  0.000005   \n",
       "21  GO:0019031                                     viral envelope  0.000610   \n",
       "48  GO:0031080                            nuclear pore outer ring  0.002727   \n",
       "54  GO:0005666            DNA-directed RNA polymerase III complex  0.004041   \n",
       "58  GO:0019908  nuclear cyclin-dependent protein kinase holoen...  0.004746   \n",
       "72  GO:0016461                      unconventional myosin complex  0.007764   \n",
       "81  GO:0005677                        chromatin silencing complex  0.010734   \n",
       "85  GO:0005736              DNA-directed RNA polymerase I complex  0.011807   \n",
       "93  GO:0005851  eukaryotic translation initiation factor 2B co...  0.014343   \n",
       "\n",
       "       BFold  \n",
       "5   2.325389  \n",
       "7   2.148635  \n",
       "21  2.839336  \n",
       "48  2.255517  \n",
       "54  2.228519  \n",
       "58  2.188418  \n",
       "72  2.067299  \n",
       "81  2.111160  \n",
       "85  2.494752  \n",
       "93  2.793472  "
      ]
     },
     "execution_count": 104,
     "metadata": {},
     "output_type": "execute_result"
    }
   ],
   "source": [
    "read_great_res_wrapper(enrichment_data_dir, component_idx, 'GOCellularComponent').head(10)\n"
   ]
  },
  {
   "cell_type": "code",
   "execution_count": 105,
   "metadata": {},
   "outputs": [
    {
     "data": {
      "text/html": [
       "<div>\n",
       "<style scoped>\n",
       "    .dataframe tbody tr th:only-of-type {\n",
       "        vertical-align: middle;\n",
       "    }\n",
       "\n",
       "    .dataframe tbody tr th {\n",
       "        vertical-align: top;\n",
       "    }\n",
       "\n",
       "    .dataframe thead th {\n",
       "        text-align: right;\n",
       "    }\n",
       "</style>\n",
       "<table border=\"1\" class=\"dataframe\">\n",
       "  <thead>\n",
       "    <tr style=\"text-align: right;\">\n",
       "      <th></th>\n",
       "      <th># ID</th>\n",
       "      <th>Desc</th>\n",
       "      <th>BPval</th>\n",
       "      <th>BFold</th>\n",
       "    </tr>\n",
       "  </thead>\n",
       "  <tbody>\n",
       "    <tr>\n",
       "      <th>3</th>\n",
       "      <td>GO:0043022</td>\n",
       "      <td>ribosome binding</td>\n",
       "      <td>7.584495e-08</td>\n",
       "      <td>2.351977</td>\n",
       "    </tr>\n",
       "    <tr>\n",
       "      <th>11</th>\n",
       "      <td>GO:0031545</td>\n",
       "      <td>peptidyl-proline 4-dioxygenase activity</td>\n",
       "      <td>8.138740e-06</td>\n",
       "      <td>2.466700</td>\n",
       "    </tr>\n",
       "    <tr>\n",
       "      <th>14</th>\n",
       "      <td>GO:0043208</td>\n",
       "      <td>glycosphingolipid binding</td>\n",
       "      <td>2.462545e-05</td>\n",
       "      <td>2.495340</td>\n",
       "    </tr>\n",
       "    <tr>\n",
       "      <th>30</th>\n",
       "      <td>GO:0001056</td>\n",
       "      <td>RNA polymerase III activity</td>\n",
       "      <td>3.860479e-04</td>\n",
       "      <td>3.131341</td>\n",
       "    </tr>\n",
       "    <tr>\n",
       "      <th>34</th>\n",
       "      <td>GO:0005007</td>\n",
       "      <td>fibroblast growth factor-activated receptor ac...</td>\n",
       "      <td>5.214530e-04</td>\n",
       "      <td>2.250279</td>\n",
       "    </tr>\n",
       "    <tr>\n",
       "      <th>48</th>\n",
       "      <td>GO:0032407</td>\n",
       "      <td>MutSalpha complex binding</td>\n",
       "      <td>1.512241e-03</td>\n",
       "      <td>2.575431</td>\n",
       "    </tr>\n",
       "    <tr>\n",
       "      <th>60</th>\n",
       "      <td>GO:0015377</td>\n",
       "      <td>cation:chloride symporter activity</td>\n",
       "      <td>2.143232e-03</td>\n",
       "      <td>2.088132</td>\n",
       "    </tr>\n",
       "    <tr>\n",
       "      <th>65</th>\n",
       "      <td>GO:0047499</td>\n",
       "      <td>calcium-independent phospholipase A2 activity</td>\n",
       "      <td>2.303207e-03</td>\n",
       "      <td>3.545742</td>\n",
       "    </tr>\n",
       "    <tr>\n",
       "      <th>69</th>\n",
       "      <td>GO:0032404</td>\n",
       "      <td>mismatch repair complex binding</td>\n",
       "      <td>2.498749e-03</td>\n",
       "      <td>2.155177</td>\n",
       "    </tr>\n",
       "    <tr>\n",
       "      <th>74</th>\n",
       "      <td>GO:0016421</td>\n",
       "      <td>CoA carboxylase activity</td>\n",
       "      <td>2.932712e-03</td>\n",
       "      <td>2.029746</td>\n",
       "    </tr>\n",
       "  </tbody>\n",
       "</table>\n",
       "</div>"
      ],
      "text/plain": [
       "          # ID                                               Desc  \\\n",
       "3   GO:0043022                                   ribosome binding   \n",
       "11  GO:0031545            peptidyl-proline 4-dioxygenase activity   \n",
       "14  GO:0043208                          glycosphingolipid binding   \n",
       "30  GO:0001056                        RNA polymerase III activity   \n",
       "34  GO:0005007  fibroblast growth factor-activated receptor ac...   \n",
       "48  GO:0032407                          MutSalpha complex binding   \n",
       "60  GO:0015377                 cation:chloride symporter activity   \n",
       "65  GO:0047499      calcium-independent phospholipase A2 activity   \n",
       "69  GO:0032404                    mismatch repair complex binding   \n",
       "74  GO:0016421                           CoA carboxylase activity   \n",
       "\n",
       "           BPval     BFold  \n",
       "3   7.584495e-08  2.351977  \n",
       "11  8.138740e-06  2.466700  \n",
       "14  2.462545e-05  2.495340  \n",
       "30  3.860479e-04  3.131341  \n",
       "34  5.214530e-04  2.250279  \n",
       "48  1.512241e-03  2.575431  \n",
       "60  2.143232e-03  2.088132  \n",
       "65  2.303207e-03  3.545742  \n",
       "69  2.498749e-03  2.155177  \n",
       "74  2.932712e-03  2.029746  "
      ]
     },
     "execution_count": 105,
     "metadata": {},
     "output_type": "execute_result"
    }
   ],
   "source": [
    "read_great_res_wrapper(enrichment_data_dir, component_idx, 'GOMolecularFunction').head(10)\n"
   ]
  },
  {
   "cell_type": "code",
   "execution_count": null,
   "metadata": {},
   "outputs": [],
   "source": []
  },
  {
   "cell_type": "code",
   "execution_count": null,
   "metadata": {},
   "outputs": [],
   "source": []
  }
 ],
 "metadata": {
  "kernelspec": {
   "display_name": "Python 3",
   "language": "python",
   "name": "python3"
  },
  "language_info": {
   "codemirror_mode": {
    "name": "ipython",
    "version": 3
   },
   "file_extension": ".py",
   "mimetype": "text/x-python",
   "name": "python",
   "nbconvert_exporter": "python",
   "pygments_lexer": "ipython3",
   "version": "3.6.4"
  }
 },
 "nbformat": 4,
 "nbformat_minor": 2
}
